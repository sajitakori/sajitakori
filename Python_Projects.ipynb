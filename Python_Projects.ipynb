{
  "cells": [
    {
      "cell_type": "markdown",
      "metadata": {
        "id": "view-in-github",
        "colab_type": "text"
      },
      "source": [
        "<a href=\"https://colab.research.google.com/github/sajitakori/sajitakori/blob/main/Python_Projects.ipynb\" target=\"_parent\"><img src=\"https://colab.research.google.com/assets/colab-badge.svg\" alt=\"Open In Colab\"/></a>"
      ]
    },
    {
      "cell_type": "markdown",
      "id": "ed116c7b",
      "metadata": {
        "id": "ed116c7b"
      },
      "source": [
        "# Quick Python"
      ]
    },
    {
      "cell_type": "markdown",
      "id": "70b01cdb",
      "metadata": {
        "id": "70b01cdb"
      },
      "source": [
        "## Variables and Data Types:\n",
        "\n",
        "* Python allows you to create variables without explicitly declaring their type.\n",
        "\n",
        "* It is dynamically typed, meaning the type of the variable is inferred at runtime.\n",
        "\n",
        "* For example:"
      ]
    },
    {
      "cell_type": "code",
      "execution_count": null,
      "id": "030237df",
      "metadata": {
        "id": "030237df"
      },
      "outputs": [],
      "source": [
        "x = 5          # Integer\n",
        "y = 3.14       # Float\n",
        "name = \"Amandeep\" # String\n",
        "is_valid = True # Boolean\n"
      ]
    },
    {
      "cell_type": "code",
      "execution_count": null,
      "id": "6c1869d6",
      "metadata": {
        "id": "6c1869d6"
      },
      "outputs": [],
      "source": [
        "x = 5\n",
        "y = \"Hello\"\n"
      ]
    },
    {
      "cell_type": "code",
      "execution_count": null,
      "id": "f5d691f6-3608-4484-b83a-00e0c808a280",
      "metadata": {
        "id": "f5d691f6-3608-4484-b83a-00e0c808a280",
        "outputId": "7a8cdcab-fc67-4b4d-d68b-de8779253de1"
      },
      "outputs": [
        {
          "name": "stdout",
          "output_type": "stream",
          "text": [
            " The value of x is :  5\n"
          ]
        }
      ],
      "source": [
        "x\n",
        "print(\" The value of x is : \",x)"
      ]
    },
    {
      "cell_type": "markdown",
      "id": "35698f78",
      "metadata": {
        "id": "35698f78"
      },
      "source": [
        "## Print Statement:\n",
        "\n",
        "\"The print() function is used to display output in Python.\""
      ]
    },
    {
      "cell_type": "code",
      "execution_count": null,
      "id": "ab2d77a5",
      "metadata": {
        "id": "ab2d77a5",
        "outputId": "be2ba717-3e3c-464d-a2d9-46dd75a39494"
      },
      "outputs": [
        {
          "name": "stdout",
          "output_type": "stream",
          "text": [
            "Hello, World!\n"
          ]
        }
      ],
      "source": [
        "print(\"Hello, World!\")\n"
      ]
    },
    {
      "cell_type": "markdown",
      "id": "6fe29740-4943-430f-ba75-460ac54a8d9c",
      "metadata": {
        "id": "6fe29740-4943-430f-ba75-460ac54a8d9c"
      },
      "source": [
        "## Basic Print Statement\n",
        "\n",
        "### Printing Simple Strings:"
      ]
    },
    {
      "cell_type": "code",
      "execution_count": null,
      "id": "fd37c529-2311-439c-a3dd-283fd1d04151",
      "metadata": {
        "id": "fd37c529-2311-439c-a3dd-283fd1d04151"
      },
      "outputs": [],
      "source": [
        "print(\"Hello, World!\")\n"
      ]
    },
    {
      "cell_type": "markdown",
      "id": "48c5d394-ef37-4bf4-bb80-3ac80c5051af",
      "metadata": {
        "id": "48c5d394-ef37-4bf4-bb80-3ac80c5051af"
      },
      "source": [
        "### Printing Multiple Items:"
      ]
    },
    {
      "cell_type": "code",
      "execution_count": null,
      "id": "11b2f207-5b7b-4165-8c9d-86647d38f793",
      "metadata": {
        "id": "11b2f207-5b7b-4165-8c9d-86647d38f793",
        "outputId": "c0dc313e-4269-4e9e-9211-0bb9c3b2a41e"
      },
      "outputs": [
        {
          "name": "stdout",
          "output_type": "stream",
          "text": [
            "Hello World 2024\n"
          ]
        }
      ],
      "source": [
        "print(\"Hello\", \"World\", 2024)\n"
      ]
    },
    {
      "cell_type": "markdown",
      "id": "2c60f225-ba2b-4a47-8502-b4f38ba5624f",
      "metadata": {
        "id": "2c60f225-ba2b-4a47-8502-b4f38ba5624f"
      },
      "source": [
        "### Printing Variables:"
      ]
    },
    {
      "cell_type": "code",
      "execution_count": null,
      "id": "35ea5e82-a4c9-4668-9254-5e1638a7bc0c",
      "metadata": {
        "id": "35ea5e82-a4c9-4668-9254-5e1638a7bc0c",
        "outputId": "14b9d518-77d6-42b2-ca4a-b0f28de8edfc"
      },
      "outputs": [
        {
          "name": "stdout",
          "output_type": "stream",
          "text": [
            "Name: Rajesh Age: 25\n"
          ]
        }
      ],
      "source": [
        "name = \"Rajesh\"\n",
        "age = 25\n",
        "print(\"Name:\", name, \"Age:\", age)\n"
      ]
    },
    {
      "cell_type": "code",
      "execution_count": null,
      "id": "35732b85-6e9b-4ebe-990b-c78b7013cb63",
      "metadata": {
        "id": "35732b85-6e9b-4ebe-990b-c78b7013cb63"
      },
      "outputs": [],
      "source": [
        "## String Formatting\n",
        "\n",
        "### Using the % Operator"
      ]
    },
    {
      "cell_type": "code",
      "execution_count": null,
      "id": "e3760b76-fddb-4e42-85eb-6137f11e1eb2",
      "metadata": {
        "id": "e3760b76-fddb-4e42-85eb-6137f11e1eb2",
        "outputId": "1e70b0c3-98eb-4517-b103-789833c10a34"
      },
      "outputs": [
        {
          "name": "stdout",
          "output_type": "stream",
          "text": [
            "Name: Amita \t Age: 30\n"
          ]
        }
      ],
      "source": [
        "name = \"Amita\"\n",
        "age = 30\n",
        "print(\"Name: %s \\t Age: %d\" % (name, age))\n"
      ]
    },
    {
      "cell_type": "code",
      "execution_count": null,
      "id": "2dbb2efc-e8fe-4709-8377-ca1389d17d4b",
      "metadata": {
        "id": "2dbb2efc-e8fe-4709-8377-ca1389d17d4b"
      },
      "outputs": [],
      "source": [
        "### Using the format() Method:"
      ]
    },
    {
      "cell_type": "code",
      "execution_count": null,
      "id": "69f3b4e4-4de4-4c8f-af42-cce0b0a808a1",
      "metadata": {
        "id": "69f3b4e4-4de4-4c8f-af42-cce0b0a808a1",
        "outputId": "e6692d3e-f7cd-4d0e-96b3-678e3d5e8bea"
      },
      "outputs": [
        {
          "name": "stdout",
          "output_type": "stream",
          "text": [
            "Name: 35, Age: Suman\n"
          ]
        }
      ],
      "source": [
        "name = \"Suman\"\n",
        "age = 35\n",
        "print(\"Name: {}, Age: {}\".format(age, name))\n"
      ]
    },
    {
      "cell_type": "code",
      "execution_count": null,
      "id": "0aa299c8-3bae-4c0b-b1ce-df980f3a3f9a",
      "metadata": {
        "id": "0aa299c8-3bae-4c0b-b1ce-df980f3a3f9a"
      },
      "outputs": [],
      "source": [
        "### Using f-Strings (Python 3.6+):"
      ]
    },
    {
      "cell_type": "code",
      "execution_count": null,
      "id": "57938b9a-3e5c-4c11-a683-ab19754b7b09",
      "metadata": {
        "id": "57938b9a-3e5c-4c11-a683-ab19754b7b09",
        "outputId": "76e29b7d-f197-4fbf-9a55-01a09c76cb0a"
      },
      "outputs": [
        {
          "name": "stdout",
          "output_type": "stream",
          "text": [
            "Name: Dinesh, Age: 40\n"
          ]
        }
      ],
      "source": [
        "name = \"Dinesh\"\n",
        "age = 40\n",
        "print(f\"Name: {name}, Age: {age}\")\n"
      ]
    },
    {
      "cell_type": "markdown",
      "id": "f0c4f656-cd11-4bb5-9a38-4a27d21c02ed",
      "metadata": {
        "id": "f0c4f656-cd11-4bb5-9a38-4a27d21c02ed"
      },
      "source": [
        "## Special Characters\n",
        "\n",
        "### Using Escape Characters:"
      ]
    },
    {
      "cell_type": "code",
      "execution_count": null,
      "id": "cb3cb381-6e85-4425-bf4e-50bf084503bb",
      "metadata": {
        "id": "cb3cb381-6e85-4425-bf4e-50bf084503bb"
      },
      "outputs": [],
      "source": [
        "print(\"Hello\\nWorld\")  # Newline\n",
        "print(\"Hello\\tWorld\")  # Tab\n",
        "print(\"Hello \\\"World\\\"\")  # Double quotes\n"
      ]
    },
    {
      "cell_type": "markdown",
      "id": "cc52640c-6072-400a-9363-ff89da501e55",
      "metadata": {
        "id": "cc52640c-6072-400a-9363-ff89da501e55"
      },
      "source": [
        "### Using Raw Strings:"
      ]
    },
    {
      "cell_type": "code",
      "execution_count": null,
      "id": "ead01117-cfd7-44c0-a694-ba323fdf1f7e",
      "metadata": {
        "id": "ead01117-cfd7-44c0-a694-ba323fdf1f7e"
      },
      "outputs": [],
      "source": [
        "print(r\"C:\\Users\\Alice\\Documents\")  # Raw string to ignore escape sequences\n"
      ]
    },
    {
      "cell_type": "code",
      "execution_count": null,
      "id": "4ce4e3d5-fcb8-4b8f-bf4c-b130a35cd766",
      "metadata": {
        "id": "4ce4e3d5-fcb8-4b8f-bf4c-b130a35cd766"
      },
      "outputs": [],
      "source": [
        "## Print with Different Separators and Endings\n",
        "\n",
        "### Custom Separator:"
      ]
    },
    {
      "cell_type": "code",
      "execution_count": null,
      "id": "1af45dcc-e9e9-47dd-8181-18e7c886e40c",
      "metadata": {
        "id": "1af45dcc-e9e9-47dd-8181-18e7c886e40c"
      },
      "outputs": [],
      "source": [
        "print(\"Hello\", \"World\", sep=\", \")\n"
      ]
    },
    {
      "cell_type": "markdown",
      "id": "5d0aa8a3-7acf-44d6-a37c-d98a88b7d8ba",
      "metadata": {
        "id": "5d0aa8a3-7acf-44d6-a37c-d98a88b7d8ba"
      },
      "source": [
        "### Custom End Character:"
      ]
    },
    {
      "cell_type": "code",
      "execution_count": null,
      "id": "96a54c74-bb95-4d3c-9833-1fb73fda9157",
      "metadata": {
        "id": "96a54c74-bb95-4d3c-9833-1fb73fda9157"
      },
      "outputs": [],
      "source": [
        "print(\"Hello\", end=\" \")\n",
        "print(\"World\")\n"
      ]
    },
    {
      "cell_type": "markdown",
      "id": "b1712fbe-edd6-449b-a714-68913fc8ef82",
      "metadata": {
        "id": "b1712fbe-edd6-449b-a714-68913fc8ef82"
      },
      "source": [
        "# Basic Input\n",
        "\n",
        "### Using input() Function"
      ]
    },
    {
      "cell_type": "code",
      "execution_count": null,
      "id": "c6e10ea6-ae94-40d2-8e25-0bd6d3b16a08",
      "metadata": {
        "id": "c6e10ea6-ae94-40d2-8e25-0bd6d3b16a08",
        "outputId": "ac381ec6-e92f-4a41-d9b1-98faa627555e"
      },
      "outputs": [
        {
          "name": "stdin",
          "output_type": "stream",
          "text": [
            "Enter your name:  Vandana\n"
          ]
        },
        {
          "name": "stdout",
          "output_type": "stream",
          "text": [
            "Hello, Vandana!\n"
          ]
        }
      ],
      "source": [
        "name = input(\"Enter your name: \")\n",
        "print(f\"Hello, {name}!\")\n"
      ]
    },
    {
      "cell_type": "code",
      "execution_count": null,
      "id": "35c680ea-a594-4e2e-ba4b-af3cdbdde667",
      "metadata": {
        "id": "35c680ea-a594-4e2e-ba4b-af3cdbdde667",
        "outputId": "a5aac661-8c19-416c-9c4e-51e46f07b83e"
      },
      "outputs": [
        {
          "name": "stdin",
          "output_type": "stream",
          "text": [
            "Enter a number 12\n",
            "Enter second number 23\n"
          ]
        },
        {
          "name": "stdout",
          "output_type": "stream",
          "text": [
            " The sum is :  35\n"
          ]
        }
      ],
      "source": [
        "num1=int(input(\"Enter a number\"))\n",
        "num2=int(input(\"Enter second number\"))\n",
        "sum=num1+num2\n",
        "print(\" The sum is : \",sum)"
      ]
    },
    {
      "cell_type": "markdown",
      "id": "0f772d75-6df2-4f06-9e7d-1e96eae1eee2",
      "metadata": {
        "id": "0f772d75-6df2-4f06-9e7d-1e96eae1eee2"
      },
      "source": [
        "## Type Conversion\n",
        "\n",
        "### Converting Input to Integer:"
      ]
    },
    {
      "cell_type": "code",
      "execution_count": null,
      "id": "a33f8fee-e168-46c1-85d6-f31c4de5befd",
      "metadata": {
        "id": "a33f8fee-e168-46c1-85d6-f31c4de5befd"
      },
      "outputs": [],
      "source": [
        "age = int(input(\"Enter your age: \"))\n",
        "print(f\"You are {age} years old.\")\n"
      ]
    },
    {
      "cell_type": "markdown",
      "id": "baabf831-c708-4562-b957-f73bdd7e417d",
      "metadata": {
        "id": "baabf831-c708-4562-b957-f73bdd7e417d"
      },
      "source": [
        "### Converting Input to Float:"
      ]
    },
    {
      "cell_type": "code",
      "execution_count": null,
      "id": "f07c614b-253b-419c-bf9b-0a7467e727f9",
      "metadata": {
        "id": "f07c614b-253b-419c-bf9b-0a7467e727f9",
        "outputId": "99d4a75f-c6cf-4a0d-e99c-55207e2b63f3"
      },
      "outputs": [
        {
          "name": "stdin",
          "output_type": "stream",
          "text": [
            "Enter your height in meters:  12.3\n"
          ]
        },
        {
          "name": "stdout",
          "output_type": "stream",
          "text": [
            "Your height is 12.3  meters\n"
          ]
        }
      ],
      "source": [
        "height = float(input(\"Enter your height in meters: \"))\n",
        "print(\"Your height is\",height,\" meters\")\n"
      ]
    },
    {
      "cell_type": "markdown",
      "id": "54236e45-4cd5-46ad-83c5-7b7bf584487f",
      "metadata": {
        "id": "54236e45-4cd5-46ad-83c5-7b7bf584487f"
      },
      "source": [
        "## Taking Multiple Inputs\n",
        "\n",
        "### Multiple Inputs in a Single Line:"
      ]
    },
    {
      "cell_type": "code",
      "execution_count": null,
      "id": "c7356687-bac1-4acc-bf53-999fd8ed0f32",
      "metadata": {
        "id": "c7356687-bac1-4acc-bf53-999fd8ed0f32"
      },
      "outputs": [],
      "source": [
        "a, b = input(\"Enter two numbers separated by space: \").split()\n",
        "print(f\"Number 1: {a}, Number 2: {b}\")\n"
      ]
    },
    {
      "cell_type": "markdown",
      "id": "6ea364df-7d77-42f0-b839-a18f19a7c9f1",
      "metadata": {
        "id": "6ea364df-7d77-42f0-b839-a18f19a7c9f1"
      },
      "source": [
        "### Multiple Inputs and Type Conversion:"
      ]
    },
    {
      "cell_type": "code",
      "execution_count": null,
      "id": "3644a9bc-6002-489c-8820-06a1493d42c0",
      "metadata": {
        "id": "3644a9bc-6002-489c-8820-06a1493d42c0"
      },
      "outputs": [],
      "source": [
        "a, b = map(int, input(\"Enter two numbers separated by space: \").split())\n",
        "print(f\"Sum: {a + b}\")\n"
      ]
    },
    {
      "cell_type": "markdown",
      "id": "6165c9cc",
      "metadata": {
        "id": "6165c9cc"
      },
      "source": [
        "## Basic Operations or Arithmetic Operations::\n",
        "\n",
        "\"Python supports basic arithmetic operations out of the box.\"\n",
        "\n",
        "You can perform arithmetic operations like addition, subtraction, multiplication, and division."
      ]
    },
    {
      "cell_type": "code",
      "execution_count": null,
      "id": "37d1ed8f",
      "metadata": {
        "id": "37d1ed8f",
        "outputId": "e82ae812-4f2e-48b3-d869-4c8a99c31963"
      },
      "outputs": [
        {
          "name": "stdout",
          "output_type": "stream",
          "text": [
            "15\n",
            "100000\n"
          ]
        }
      ],
      "source": [
        "a = 10\n",
        "b = 5\n",
        "sum_result = a + b          # Addition\n",
        "diff_result = a - b         # Subtraction\n",
        "product_result = a * b      # Multiplication\n",
        "quotient_result = a / b     # Division\n",
        "exponent_result = a ** b    # Exponentiation\n",
        "print(sum_result)\n",
        "print(exponent_result)\n"
      ]
    },
    {
      "cell_type": "code",
      "execution_count": null,
      "id": "e0ad8215",
      "metadata": {
        "id": "e0ad8215",
        "outputId": "83c52793-cc35-499d-bdad-1d11a04a1688"
      },
      "outputs": [
        {
          "name": "stdin",
          "output_type": "stream",
          "text": [
            "Enter a number:  56\n"
          ]
        },
        {
          "name": "stdout",
          "output_type": "stream",
          "text": [
            "58\n"
          ]
        }
      ],
      "source": [
        "x=int(input(\"Enter a number: \"))\n",
        "result = x + 2\n",
        "print(result)  # Output:\n"
      ]
    },
    {
      "cell_type": "code",
      "execution_count": null,
      "id": "7177b36c",
      "metadata": {
        "id": "7177b36c",
        "outputId": "2e477425-d3c0-41c9-fa94-12229f652574"
      },
      "outputs": [
        {
          "name": "stdout",
          "output_type": "stream",
          "text": [
            "19\n",
            "11\n",
            "60\n",
            "3.75\n"
          ]
        }
      ],
      "source": [
        "a = 15\n",
        "b = 4\n",
        "print(a + b)   # Output: 19\n",
        "print(a - b)   # Output: 11\n",
        "print(a * b)   # Output: 60\n",
        "print(a / b)   # Output: 3.75\n"
      ]
    },
    {
      "cell_type": "markdown",
      "id": "edbab0ca",
      "metadata": {
        "id": "edbab0ca"
      },
      "source": [
        "## Control Structures:\n",
        "\n",
        "\"Control structures are used to control the flow of execution in a program.\"\n",
        "\n",
        "Python supports if-else statements, for loops, and while loops for controlling the flow of your program."
      ]
    },
    {
      "cell_type": "markdown",
      "id": "92a98cbf",
      "metadata": {
        "id": "92a98cbf"
      },
      "source": [
        "## If-Else Statement:"
      ]
    },
    {
      "cell_type": "markdown",
      "id": "bf689f39",
      "metadata": {
        "id": "bf689f39"
      },
      "source": [
        "\"Control the flow of your program using if-else statements.\""
      ]
    },
    {
      "cell_type": "code",
      "execution_count": null,
      "id": "21662d00",
      "metadata": {
        "id": "21662d00",
        "outputId": "86d06679-decf-4388-9507-8b34babfa51f"
      },
      "outputs": [
        {
          "name": "stdout",
          "output_type": "stream",
          "text": [
            "x is greater than 3\n"
          ]
        }
      ],
      "source": [
        "if x > 3:\n",
        "    print(\"x is greater than 3\")\n"
      ]
    },
    {
      "cell_type": "code",
      "execution_count": null,
      "id": "4b28e0c5-6637-4fab-92ab-908a57dfe020",
      "metadata": {
        "id": "4b28e0c5-6637-4fab-92ab-908a57dfe020",
        "outputId": "84a76ba5-0827-4f0b-9a22-a5f0629d97c0"
      },
      "outputs": [
        {
          "name": "stdin",
          "output_type": "stream",
          "text": [
            "Enter your age 19\n"
          ]
        },
        {
          "name": "stdout",
          "output_type": "stream",
          "text": [
            "You are eligible to Vote\n"
          ]
        }
      ],
      "source": [
        "age=int(input(\"Enter your age\"))\n",
        "if(age>18):\n",
        "    print(\"You are eligible to Vote\")\n"
      ]
    },
    {
      "cell_type": "code",
      "execution_count": null,
      "id": "f3487beb-be38-44cb-becf-dc4774e9daca",
      "metadata": {
        "id": "f3487beb-be38-44cb-becf-dc4774e9daca",
        "outputId": "65cad0b5-588b-4cb5-fb04-abba8f7b48f0"
      },
      "outputs": [
        {
          "name": "stdin",
          "output_type": "stream",
          "text": [
            "Enter your age 12\n"
          ]
        },
        {
          "name": "stdout",
          "output_type": "stream",
          "text": [
            "You are not eligible to Vote\n",
            " Your age is :  12  which is less than 18\n"
          ]
        }
      ],
      "source": [
        "age=int(input(\"Enter your age\"))\n",
        "if(age>18):\n",
        "    print(\"You are eligible to Vote\")\n",
        "    print(\" Your age is : \",age)\n",
        "else:\n",
        "    print(\"You are not eligible to Vote\")\n",
        "    print(\" Your age is : \",age,\" which is less than 18\")"
      ]
    },
    {
      "cell_type": "code",
      "execution_count": null,
      "id": "103e0d79",
      "metadata": {
        "id": "103e0d79",
        "outputId": "54e386e1-3fe5-481b-ebcf-e332558eaf75"
      },
      "outputs": [
        {
          "name": "stdout",
          "output_type": "stream",
          "text": [
            "a is greater than b\n"
          ]
        }
      ],
      "source": [
        "if a > b:\n",
        "    print(\"a is greater than b\")\n",
        "else:\n",
        "    print(\"a is not greater than b\")\n"
      ]
    },
    {
      "cell_type": "code",
      "execution_count": null,
      "id": "c441565e",
      "metadata": {
        "id": "c441565e",
        "outputId": "6cac4c68-4842-4ade-913a-f83985cb545a"
      },
      "outputs": [
        {
          "name": "stdout",
          "output_type": "stream",
          "text": [
            "You are an adult.\n"
          ]
        }
      ],
      "source": [
        "age = 18\n",
        "if age >= 18:\n",
        "    print(\"You are an adult.\")\n",
        "else:\n",
        "    print(\"You are a minor.\")\n"
      ]
    },
    {
      "cell_type": "markdown",
      "id": "ba854b1c-01e4-48eb-aa99-b48e1c053e9f",
      "metadata": {
        "id": "ba854b1c-01e4-48eb-aa99-b48e1c053e9f"
      },
      "source": [
        "# Example of Nested If in Python\n",
        "\n",
        "## Nested if statements are used when you have multiple conditions to check, and each condition is dependent on the previous one.\n",
        "\n",
        "### Determining the Category of a Student Based on Marks"
      ]
    },
    {
      "cell_type": "code",
      "execution_count": null,
      "id": "db44f4cf-2808-4762-9794-b8bee7f45d55",
      "metadata": {
        "id": "db44f4cf-2808-4762-9794-b8bee7f45d55"
      },
      "outputs": [],
      "source": [
        "marks = int(input(\"Enter your marks: \"))\n",
        "\n",
        "if marks >= 90:\n",
        "    if marks >= 95:\n",
        "        print(\"You are in the A+ category.\")\n",
        "    else:\n",
        "        print(\"You are in the A category.\")\n",
        "elif marks >= 75:\n",
        "    if marks >= 85:\n",
        "        print(\"You are in the B+ category.\")\n",
        "    else:\n",
        "        print(\"You are in the B category.\")\n",
        "elif marks >= 50:\n",
        "    if marks >= 65:\n",
        "        print(\"You are in the C+ category.\")\n",
        "    else:\n",
        "        print(\"You are in the C category.\")\n",
        "else:\n",
        "    print(\"You are in the D category.\")\n"
      ]
    },
    {
      "cell_type": "markdown",
      "id": "24127b56-5b37-4caa-9681-353e7b59a11d",
      "metadata": {
        "id": "24127b56-5b37-4caa-9681-353e7b59a11d"
      },
      "source": [
        "## Example of Ladder If (if-elif-else) in Python\n",
        "\n",
        "### Ladder if, also known as an if-elif-else ladder, is used to check multiple conditions in a sequential manner.\n",
        "\n",
        "### Determining the Category of a Student Based on Marks"
      ]
    },
    {
      "cell_type": "code",
      "execution_count": null,
      "id": "73c9ce53-0a81-4672-8e55-8f82bdffb393",
      "metadata": {
        "id": "73c9ce53-0a81-4672-8e55-8f82bdffb393"
      },
      "outputs": [],
      "source": [
        "marks = int(input(\"Enter your marks: \"))\n",
        "\n",
        "if marks >= 95:\n",
        "    print(\"You are in the A+ category.\")\n",
        "elif marks >= 90:\n",
        "    print(\"You are in the A category.\")\n",
        "elif marks >= 85:\n",
        "    print(\"You are in the B+ category.\")\n",
        "elif marks >= 75:\n",
        "    print(\"You are in the B category.\")\n",
        "elif marks >= 65:\n",
        "    print(\"You are in the C+ category.\")\n",
        "elif marks >= 50:\n",
        "    print(\"You are in the C category.\")\n",
        "else:\n",
        "    print(\"You are in the D category.\")\n"
      ]
    },
    {
      "cell_type": "markdown",
      "id": "26cda6e1",
      "metadata": {
        "id": "26cda6e1"
      },
      "source": [
        "## For Loop:"
      ]
    },
    {
      "cell_type": "markdown",
      "id": "7a4718be",
      "metadata": {
        "id": "7a4718be"
      },
      "source": [
        "\"Use for loops to iterate over a sequence of values.\""
      ]
    },
    {
      "cell_type": "code",
      "execution_count": null,
      "id": "c9d3d874",
      "metadata": {
        "id": "c9d3d874",
        "outputId": "9c402273-5c2e-40fa-e6e9-23ecf8d5d90d"
      },
      "outputs": [
        {
          "name": "stdout",
          "output_type": "stream",
          "text": [
            "0\n",
            "1\n",
            "2\n",
            "3\n",
            "4\n"
          ]
        }
      ],
      "source": [
        "for i in range(5):\n",
        "    print(i)\n"
      ]
    },
    {
      "cell_type": "code",
      "execution_count": null,
      "id": "87aac314",
      "metadata": {
        "id": "87aac314",
        "outputId": "c57cde5c-9454-4b17-c5f9-2e7dd67c9eb4"
      },
      "outputs": [
        {
          "name": "stdout",
          "output_type": "stream",
          "text": [
            "1\n",
            "2\n",
            "3\n",
            "4\n",
            "5\n"
          ]
        }
      ],
      "source": [
        "for i in range(1, 6):\n",
        "    print(i)\n"
      ]
    },
    {
      "cell_type": "markdown",
      "id": "c732033a-8f8f-4a40-bf99-e375115f2624",
      "metadata": {
        "id": "c732033a-8f8f-4a40-bf99-e375115f2624"
      },
      "source": [
        "# Example of Nested For Loop in Python\n",
        "\n",
        "Nested for loops are used when you need to perform an iteration within another iteration. This is common when dealing with multi-dimensional data structures like matrices or when performing complex iterations over sequences.\n",
        "\n",
        "###  Printing a Multiplication Table\n",
        "\n",
        "In this example, we'll use nested for loops to print a multiplication table from 1 to 5."
      ]
    },
    {
      "cell_type": "code",
      "execution_count": null,
      "id": "bf43a4b7-f65c-4602-a353-5435b0e631b0",
      "metadata": {
        "id": "bf43a4b7-f65c-4602-a353-5435b0e631b0",
        "outputId": "a9673ab5-9829-4f17-adf9-9f7d54a2ea7e"
      },
      "outputs": [
        {
          "name": "stdout",
          "output_type": "stream",
          "text": [
            " 1  2  3  4  5  6  7  8  9 10 \n",
            " 2  4  6  8 10 12 14 16 18 20 \n",
            " 3  6  9 12 15 18 21 24 27 30 \n",
            " 4  8 12 16 20 24 28 32 36 40 \n",
            " 5 10 15 20 25 30 35 40 45 50 \n"
          ]
        }
      ],
      "source": [
        "# Outer loop for rows\n",
        "for i in range(1, 6,):  # i will take values from 1 to 5\n",
        "    # Inner loop for columns\n",
        "    for j in range(1, 11):  # j will take values from 1 to 5\n",
        "        product = i * j\n",
        "        print(f\"{product:2}\", end=\" \")  # Format to align the output\n",
        "    print()  # Newline after each row\n"
      ]
    },
    {
      "cell_type": "markdown",
      "id": "d203dc3b",
      "metadata": {
        "id": "d203dc3b"
      },
      "source": [
        "## While Loop:"
      ]
    },
    {
      "cell_type": "markdown",
      "id": "03ef97d7",
      "metadata": {
        "id": "03ef97d7"
      },
      "source": [
        "\"Use while loops to repeat a block of code as long as a condition is true.\""
      ]
    },
    {
      "cell_type": "code",
      "execution_count": null,
      "id": "3b6692be",
      "metadata": {
        "id": "3b6692be",
        "outputId": "7399153d-e108-484a-bb58-023e2e382835"
      },
      "outputs": [
        {
          "name": "stdout",
          "output_type": "stream",
          "text": [
            "0\n",
            "1\n",
            "2\n",
            "3\n",
            "4\n"
          ]
        }
      ],
      "source": [
        "count = 0\n",
        "while count < 5:\n",
        "    print(count)\n",
        "    count += 1\n"
      ]
    },
    {
      "cell_type": "code",
      "execution_count": null,
      "id": "d2085984",
      "metadata": {
        "id": "d2085984",
        "outputId": "0780cf7d-416b-4b6c-a8de-68d880da2465"
      },
      "outputs": [
        {
          "name": "stdout",
          "output_type": "stream",
          "text": [
            "Count: 0\n",
            "Count: 1\n",
            "Count: 2\n"
          ]
        }
      ],
      "source": [
        "count = 0\n",
        "while count < 3:\n",
        "    print(\"Count:\", count)\n",
        "    count += 1\n"
      ]
    },
    {
      "cell_type": "markdown",
      "id": "b6d74eb4",
      "metadata": {
        "id": "b6d74eb4"
      },
      "source": [
        "## Defining Functions:\n",
        "\n",
        "\"Functions allow you to encapsulate reusable code.\""
      ]
    },
    {
      "cell_type": "code",
      "execution_count": null,
      "id": "2022f6cb",
      "metadata": {
        "id": "2022f6cb",
        "outputId": "d772c29a-c7c8-4f8f-a2a5-39bb4886206c"
      },
      "outputs": [
        {
          "name": "stdout",
          "output_type": "stream",
          "text": [
            "Hello, Amandeep!\n"
          ]
        }
      ],
      "source": [
        "def greet(name):\n",
        "    return \"Hello, \" + name + \"!\"\n",
        "\n",
        "print(greet(\"Amandeep\"))\n"
      ]
    },
    {
      "cell_type": "markdown",
      "id": "42e0be7c-695c-42f0-a10c-eae7de7cbf61",
      "metadata": {
        "id": "42e0be7c-695c-42f0-a10c-eae7de7cbf61"
      },
      "source": [
        "## Simple Addition Function\n",
        "\n",
        "### This function takes two arguments and returns their sum.\n",
        "\n"
      ]
    },
    {
      "cell_type": "code",
      "execution_count": null,
      "id": "f0c65a57-2857-4201-bec4-4c494eb3decf",
      "metadata": {
        "id": "f0c65a57-2857-4201-bec4-4c494eb3decf",
        "outputId": "31ab7b42-193e-41ec-9d96-5a5d34a7f6a8"
      },
      "outputs": [
        {
          "name": "stdout",
          "output_type": "stream",
          "text": [
            "The sum of 3 and 5 is 8\n"
          ]
        }
      ],
      "source": [
        "def add_two_numbers(a, b):\n",
        "    return a + b\n",
        "\n",
        "# Example usage:\n",
        "result = add_two_numbers(3, 5)\n",
        "print(f\"The sum of 3 and 5 is {result}\")\n"
      ]
    },
    {
      "cell_type": "markdown",
      "id": "b8d303b4-f943-4ab7-82f8-48e37ec05751",
      "metadata": {
        "id": "b8d303b4-f943-4ab7-82f8-48e37ec05751"
      },
      "source": [
        "## Adding Multiple Numbers\n",
        "\n",
        "### This function uses *args to accept a variable number of arguments and returns their sum."
      ]
    },
    {
      "cell_type": "code",
      "execution_count": null,
      "id": "f8a67cc3-fe46-441e-b917-4adf1e654035",
      "metadata": {
        "id": "f8a67cc3-fe46-441e-b917-4adf1e654035",
        "outputId": "18d15d66-30d1-4472-dc52-1cfadf7317fe"
      },
      "outputs": [
        {
          "ename": "TypeError",
          "evalue": "'int' object is not callable",
          "output_type": "error",
          "traceback": [
            "\u001b[1;31m---------------------------------------------------------------------------\u001b[0m",
            "\u001b[1;31mTypeError\u001b[0m                                 Traceback (most recent call last)",
            "Cell \u001b[1;32mIn[29], line 5\u001b[0m\n\u001b[0;32m      2\u001b[0m     \u001b[38;5;28;01mreturn\u001b[39;00m \u001b[38;5;28msum\u001b[39m(args)\n\u001b[0;32m      4\u001b[0m \u001b[38;5;66;03m# Example usage:\u001b[39;00m\n\u001b[1;32m----> 5\u001b[0m result \u001b[38;5;241m=\u001b[39m add_multiple_numbers(\u001b[38;5;241m1\u001b[39m, \u001b[38;5;241m2\u001b[39m, \u001b[38;5;241m3\u001b[39m, \u001b[38;5;241m4\u001b[39m, \u001b[38;5;241m5\u001b[39m)\n\u001b[0;32m      6\u001b[0m \u001b[38;5;28mprint\u001b[39m(\u001b[38;5;124mf\u001b[39m\u001b[38;5;124m\"\u001b[39m\u001b[38;5;124mThe sum of 1, 2, 3, 4, and 5 is \u001b[39m\u001b[38;5;132;01m{\u001b[39;00mresult\u001b[38;5;132;01m}\u001b[39;00m\u001b[38;5;124m\"\u001b[39m)\n",
            "Cell \u001b[1;32mIn[29], line 2\u001b[0m, in \u001b[0;36madd_multiple_numbers\u001b[1;34m(*args)\u001b[0m\n\u001b[0;32m      1\u001b[0m \u001b[38;5;28;01mdef\u001b[39;00m \u001b[38;5;21madd_multiple_numbers\u001b[39m(\u001b[38;5;241m*\u001b[39margs):\n\u001b[1;32m----> 2\u001b[0m     \u001b[38;5;28;01mreturn\u001b[39;00m \u001b[38;5;28msum\u001b[39m(args)\n",
            "\u001b[1;31mTypeError\u001b[0m: 'int' object is not callable"
          ]
        }
      ],
      "source": [
        "def add_multiple_numbers(*args):\n",
        "    return sum(args)\n",
        "\n",
        "# Example usage:\n",
        "result = add_multiple_numbers(1, 2, 3, 4, 5)\n",
        "print(f\"The sum of 1, 2, 3, 4, and 5 is {result}\")\n"
      ]
    },
    {
      "cell_type": "markdown",
      "id": "2c9b44f4",
      "metadata": {
        "id": "2c9b44f4"
      },
      "source": [
        "## Simple Python Program:\n",
        "\n",
        "\"Let's write a simple Python program together. Open your Jupyter Notebook and type the following code to print 'Hello, World!' and perform a basic arithmetic operation:"
      ]
    },
    {
      "cell_type": "code",
      "execution_count": null,
      "id": "a6f71a5a",
      "metadata": {
        "id": "a6f71a5a"
      },
      "outputs": [],
      "source": []
    },
    {
      "cell_type": "code",
      "execution_count": null,
      "id": "ce19819d",
      "metadata": {
        "id": "ce19819d",
        "outputId": "2a8a09bc-c8e1-4b27-a5fd-c45ca8352cdb"
      },
      "outputs": [
        {
          "name": "stdout",
          "output_type": "stream",
          "text": [
            "Hello, World!\n",
            "30\n"
          ]
        }
      ],
      "source": [
        "print(\"Hello, World!\")\n",
        "a = 10\n",
        "b = 20\n",
        "print(a + b)  # Output: 30\n"
      ]
    },
    {
      "cell_type": "markdown",
      "id": "fc991bf3-063a-4ae6-a9df-9c3dcb5beb5b",
      "metadata": {
        "id": "fc991bf3-063a-4ae6-a9df-9c3dcb5beb5b"
      },
      "source": [
        "# Built-In Data Structure:\n",
        "\n",
        "Python supports a variety of built-in data structures, each of which serves different purposes and has its own characteristics. Here are the primary data structures supported by Python, along with examples of how to handle them using various constructs:\n",
        "\n",
        "## 1. List\n",
        "A list is an ordered, mutable collection of items. Lists can contain elements of different data types.\n",
        "\n",
        "### Example:"
      ]
    },
    {
      "cell_type": "code",
      "execution_count": null,
      "id": "6cff5ec6-b682-42f6-a091-2f1a91ada719",
      "metadata": {
        "id": "6cff5ec6-b682-42f6-a091-2f1a91ada719",
        "outputId": "81281c5f-6fa4-48d0-ab8e-1242012fa9bb"
      },
      "outputs": [
        {
          "data": {
            "text/plain": [
              "[1, 2, 3, 4, 5]"
            ]
          },
          "execution_count": 33,
          "metadata": {},
          "output_type": "execute_result"
        }
      ],
      "source": [
        "lst=[1,2,3,4,5]\n",
        "lst"
      ]
    },
    {
      "cell_type": "code",
      "execution_count": null,
      "id": "1fb2d98a-5d41-4377-8302-c7bf92a572db",
      "metadata": {
        "id": "1fb2d98a-5d41-4377-8302-c7bf92a572db",
        "outputId": "faf72de4-2e05-4973-e10a-9af75a676ab1"
      },
      "outputs": [
        {
          "data": {
            "text/plain": [
              "4"
            ]
          },
          "execution_count": 35,
          "metadata": {},
          "output_type": "execute_result"
        }
      ],
      "source": [
        "lst[3]"
      ]
    },
    {
      "cell_type": "code",
      "execution_count": null,
      "id": "0cedc9ea-0253-4841-a7f5-dda9cda4607c",
      "metadata": {
        "id": "0cedc9ea-0253-4841-a7f5-dda9cda4607c"
      },
      "outputs": [],
      "source": [
        "lst=[1,\"y\",\"3\",4]"
      ]
    },
    {
      "cell_type": "code",
      "execution_count": null,
      "id": "b66b9205-83a4-450e-b529-0fdffdcf6feb",
      "metadata": {
        "id": "b66b9205-83a4-450e-b529-0fdffdcf6feb"
      },
      "outputs": [],
      "source": [
        "lst[3]=\"Raman\""
      ]
    },
    {
      "cell_type": "code",
      "execution_count": null,
      "id": "d3e2447b-a295-4414-8e3a-89a3d7692e53",
      "metadata": {
        "id": "d3e2447b-a295-4414-8e3a-89a3d7692e53",
        "outputId": "633d7d9d-d8ce-4c46-b7ae-4b1ed0c2feb3"
      },
      "outputs": [
        {
          "data": {
            "text/plain": [
              "[1, 'y', '3', 'Raman']"
            ]
          },
          "execution_count": 47,
          "metadata": {},
          "output_type": "execute_result"
        }
      ],
      "source": [
        "lst"
      ]
    },
    {
      "cell_type": "code",
      "execution_count": null,
      "id": "fdc39f3a-580c-40f0-a90f-74418e8a3ca4",
      "metadata": {
        "id": "fdc39f3a-580c-40f0-a90f-74418e8a3ca4",
        "outputId": "1177d5af-d284-4dfb-a7d1-6f3ec190cd6a"
      },
      "outputs": [
        {
          "name": "stdout",
          "output_type": "stream",
          "text": [
            "2  is even\n",
            "3  is Odd\n",
            "6  is even\n",
            "7  is Odd\n",
            "10  is even\n"
          ]
        }
      ],
      "source": [
        "lst=[2,3,6,7,10]\n",
        "for i in lst:\n",
        "    if i%2==0:\n",
        "        print (i,\" is even\")\n",
        "    else:\n",
        "        print(i,\" is Odd\")\n"
      ]
    },
    {
      "cell_type": "code",
      "execution_count": null,
      "id": "dad7c2ee-c19f-495f-af2c-a04ab627cf4a",
      "metadata": {
        "id": "dad7c2ee-c19f-495f-af2c-a04ab627cf4a",
        "outputId": "96b6ed4b-0abc-44bc-fb03-51dccedc5139"
      },
      "outputs": [
        {
          "name": "stdout",
          "output_type": "stream",
          "text": [
            "1\n",
            "[1, 2, 10, 4, 5, 'Maths']\n",
            "1\n",
            "2\n",
            "10\n",
            "4\n",
            "5\n",
            "Maths\n"
          ]
        },
        {
          "ename": "TypeError",
          "evalue": "unsupported operand type(s) for ** or pow(): 'str' and 'int'",
          "output_type": "error",
          "traceback": [
            "\u001b[1;31m---------------------------------------------------------------------------\u001b[0m",
            "\u001b[1;31mTypeError\u001b[0m                                 Traceback (most recent call last)",
            "Cell \u001b[1;32mIn[31], line 16\u001b[0m\n\u001b[0;32m     13\u001b[0m     \u001b[38;5;28mprint\u001b[39m(item)\n\u001b[0;32m     15\u001b[0m \u001b[38;5;66;03m# List comprehensions\u001b[39;00m\n\u001b[1;32m---> 16\u001b[0m squared_list \u001b[38;5;241m=\u001b[39m [x\u001b[38;5;241m*\u001b[39m\u001b[38;5;241m*\u001b[39m\u001b[38;5;241m2\u001b[39m \u001b[38;5;28;01mfor\u001b[39;00m x \u001b[38;5;129;01min\u001b[39;00m my_list]\n\u001b[0;32m     17\u001b[0m \u001b[38;5;28mprint\u001b[39m(squared_list)\n",
            "\u001b[1;31mTypeError\u001b[0m: unsupported operand type(s) for ** or pow(): 'str' and 'int'"
          ]
        }
      ],
      "source": [
        "# Creating a list\n",
        "my_list = [1, 2, 3, 4, 5]\n",
        "\n",
        "# Accessing elements\n",
        "print(my_list[0])  # Output: 1\n",
        "\n",
        "# Modifying elements\n",
        "my_list[2] = 10\n",
        "print(my_list)  # Output: [1, 2, 10, 4, 5]\n",
        "\n",
        "# Iterating through a list\n",
        "for item in my_list:\n",
        "    print(item)\n",
        "\n",
        "# List comprehensions\n",
        "squared_list = [x**2 for x in my_list]\n",
        "print(squared_list)  # Output: [1, 4, 100, 16, 25]\n"
      ]
    },
    {
      "cell_type": "markdown",
      "id": "dc1da8e5-6539-4da5-a9f2-d878f7e31c79",
      "metadata": {
        "id": "dc1da8e5-6539-4da5-a9f2-d878f7e31c79"
      },
      "source": [
        "# Lists\n",
        "Lists are commonly used in machine learning for storing sequences of data, such as datasets, labels, predictions, and model parameters.\n",
        "\n",
        "## 5 Functions:\n",
        "\n",
        "1. append()\n",
        "2. extend()\n",
        "3. insert()\n",
        "4. remove()\n",
        "5. pop()"
      ]
    },
    {
      "cell_type": "code",
      "execution_count": null,
      "id": "3e387dbb-0799-4678-924c-a1b13450098e",
      "metadata": {
        "id": "3e387dbb-0799-4678-924c-a1b13450098e"
      },
      "outputs": [],
      "source": [
        "# Create a list\n",
        "data = [1, 2, 3, 4, 5]\n",
        "\n",
        "# Append an element\n",
        "data.append(6)"
      ]
    },
    {
      "cell_type": "code",
      "execution_count": null,
      "id": "47168bfb-b994-4994-a48f-279871f81351",
      "metadata": {
        "id": "47168bfb-b994-4994-a48f-279871f81351",
        "outputId": "6c45028e-4c07-4547-d73c-6c769d35a450"
      },
      "outputs": [
        {
          "data": {
            "text/plain": [
              "[1, 2, 3, 4, 5, 6]"
            ]
          },
          "execution_count": 57,
          "metadata": {},
          "output_type": "execute_result"
        }
      ],
      "source": [
        "data"
      ]
    },
    {
      "cell_type": "code",
      "execution_count": null,
      "id": "c8c4af6d-be08-4c77-9390-363e15e8f11b",
      "metadata": {
        "id": "c8c4af6d-be08-4c77-9390-363e15e8f11b"
      },
      "outputs": [],
      "source": [
        "\n",
        "# Extend the list\n",
        "data.extend([7, 8])"
      ]
    },
    {
      "cell_type": "code",
      "execution_count": null,
      "id": "6de57f81-5a68-4ad8-bd70-92c2af46a95a",
      "metadata": {
        "id": "6de57f81-5a68-4ad8-bd70-92c2af46a95a",
        "outputId": "efdde784-5f52-4d9b-8449-05851eee78fa"
      },
      "outputs": [
        {
          "data": {
            "text/plain": [
              "[1, 2, 3, 4, 5, 6, 7, 8]"
            ]
          },
          "execution_count": 61,
          "metadata": {},
          "output_type": "execute_result"
        }
      ],
      "source": [
        "data"
      ]
    },
    {
      "cell_type": "code",
      "execution_count": null,
      "id": "d8922a94-98e1-4a40-9168-99784912458f",
      "metadata": {
        "id": "d8922a94-98e1-4a40-9168-99784912458f"
      },
      "outputs": [],
      "source": [
        "# Insert an element\n",
        "data.insert(3, \"Aman\")"
      ]
    },
    {
      "cell_type": "code",
      "execution_count": null,
      "id": "a1ee8c53-d64a-4b45-adb6-044553077901",
      "metadata": {
        "id": "a1ee8c53-d64a-4b45-adb6-044553077901",
        "outputId": "f26f83ac-fc04-435d-b5ee-6ead13e71b0d"
      },
      "outputs": [
        {
          "data": {
            "text/plain": [
              "[0, 1, 2, 'Aman', 3, 4, 5, 6, 7, 8]"
            ]
          },
          "execution_count": 69,
          "metadata": {},
          "output_type": "execute_result"
        }
      ],
      "source": [
        "data"
      ]
    },
    {
      "cell_type": "code",
      "execution_count": null,
      "id": "a5d985e9-87e0-43ed-ba21-b9defb38a4a9",
      "metadata": {
        "id": "a5d985e9-87e0-43ed-ba21-b9defb38a4a9",
        "outputId": "15bf4958-ea66-411a-e99f-9da8b262a0c5"
      },
      "outputs": [
        {
          "name": "stdout",
          "output_type": "stream",
          "text": [
            "0\n",
            "1\n",
            "2\n",
            "Aman\n",
            "4\n",
            "5\n",
            "6\n",
            "7\n"
          ]
        }
      ],
      "source": [
        "\n",
        "\n",
        "\n",
        "\n",
        "\n",
        "# Remove an element\n",
        "if 3 in data:\n",
        "    data.remove(3)\n",
        "\n",
        "# Pop an element\n",
        "element = data.pop()\n",
        "\n",
        "# Loop through the list\n",
        "for item in data:\n",
        "    print(item)\n"
      ]
    },
    {
      "cell_type": "code",
      "execution_count": null,
      "id": "5f4733b5-a70d-4bc2-be2a-434b19b5ac66",
      "metadata": {
        "id": "5f4733b5-a70d-4bc2-be2a-434b19b5ac66"
      },
      "outputs": [],
      "source": []
    },
    {
      "cell_type": "markdown",
      "id": "6e27eb0a-6476-44df-b6a5-dbe56ad6174c",
      "metadata": {
        "id": "6e27eb0a-6476-44df-b6a5-dbe56ad6174c"
      },
      "source": [
        "## 2. Tuple\n",
        "A tuple is an ordered, immutable collection of items. Tuples can contain elements of different data types.\n",
        "\n",
        "### Example:"
      ]
    },
    {
      "cell_type": "code",
      "execution_count": null,
      "id": "ff43a827-3d9f-4970-8bbc-7fe30bc3df48",
      "metadata": {
        "id": "ff43a827-3d9f-4970-8bbc-7fe30bc3df48",
        "outputId": "03f88119-f9df-4228-a849-c02b9107a353"
      },
      "outputs": [
        {
          "name": "stdout",
          "output_type": "stream",
          "text": [
            "1\n",
            "1\n",
            "2\n",
            "3\n",
            "4\n",
            "5\n"
          ]
        }
      ],
      "source": [
        "# Creating a tuple\n",
        "my_tuple = (1, 2, 3, 4, 5)\n",
        "\n",
        "# Accessing elements\n",
        "print(my_tuple[0])  # Output: 1\n",
        "\n",
        "# Iterating through a tuple\n",
        "for item in my_tuple:\n",
        "    print(item)"
      ]
    },
    {
      "cell_type": "code",
      "execution_count": null,
      "id": "40ad70f3-8862-443b-a80a-928ae22f53a7",
      "metadata": {
        "id": "40ad70f3-8862-443b-a80a-928ae22f53a7",
        "outputId": "9799dd1a-e5dc-4dde-9a87-28efa6d30dbc"
      },
      "outputs": [
        {
          "ename": "TypeError",
          "evalue": "'tuple' object does not support item assignment",
          "output_type": "error",
          "traceback": [
            "\u001b[1;31m---------------------------------------------------------------------------\u001b[0m",
            "\u001b[1;31mTypeError\u001b[0m                                 Traceback (most recent call last)",
            "Cell \u001b[1;32mIn[77], line 1\u001b[0m\n\u001b[1;32m----> 1\u001b[0m my_tuple[\u001b[38;5;241m2\u001b[39m]\u001b[38;5;241m=\u001b[39m\u001b[38;5;124m\"\u001b[39m\u001b[38;5;124mAman\u001b[39m\u001b[38;5;124m\"\u001b[39m\n",
            "\u001b[1;31mTypeError\u001b[0m: 'tuple' object does not support item assignment"
          ]
        }
      ],
      "source": [
        "my_tuple[2]=\"Aman\""
      ]
    },
    {
      "cell_type": "code",
      "execution_count": null,
      "id": "c8bb1503-d2ed-44ff-81f4-7f42782ec79e",
      "metadata": {
        "id": "c8bb1503-d2ed-44ff-81f4-7f42782ec79e"
      },
      "outputs": [],
      "source": [
        "\n",
        "\n",
        "# Tuples are immutable, so we cannot modify them directly\n",
        "# However, we can create a new tuple\n",
        "new_tuple = my_tuple + (6,)\n",
        "print(new_tuple)  # Output: (1, 2, 3, 4, 5, 6)\n"
      ]
    },
    {
      "cell_type": "markdown",
      "id": "ed999ae0-8c92-4d39-986a-e54d2397e8ee",
      "metadata": {
        "id": "ed999ae0-8c92-4d39-986a-e54d2397e8ee"
      },
      "source": [
        "# Tuples\n",
        "Tuples are often used to store immutable sequences of data, such as fixed-size vectors or configurations.\n",
        "\n",
        "# 5 Functions:\n",
        "\n",
        "1. count()\n",
        "2. index()\n",
        "3. len()\n",
        "4. max()\n",
        "5. min()\n",
        "\n",
        "## Example with Ifs and Loops:"
      ]
    },
    {
      "cell_type": "code",
      "execution_count": null,
      "id": "f24ab3ee-ed39-4b9d-91b2-7a355605d0d0",
      "metadata": {
        "id": "f24ab3ee-ed39-4b9d-91b2-7a355605d0d0",
        "outputId": "c664df0a-3db7-4878-c845-c30c8b2c138d"
      },
      "outputs": [
        {
          "name": "stdout",
          "output_type": "stream",
          "text": [
            "3\n"
          ]
        }
      ],
      "source": [
        "# Create a tuple\n",
        "config = (1,2,3,4,1,2,3,4,2)\n",
        "\n",
        "# Count occurrences\n",
        "relu_count = config.count(2)\n",
        "print(relu_count)"
      ]
    },
    {
      "cell_type": "code",
      "execution_count": null,
      "id": "cc0b8231-8b12-4e83-b094-5b1928f76184",
      "metadata": {
        "id": "cc0b8231-8b12-4e83-b094-5b1928f76184",
        "outputId": "4153a0da-7dac-4815-8e46-130687558a25"
      },
      "outputs": [
        {
          "name": "stdout",
          "output_type": "stream",
          "text": [
            "2\n"
          ]
        }
      ],
      "source": [
        "\n",
        "\n",
        "# Find index\n",
        "index_relu = config.index(3)\n",
        "print(index_relu)\n",
        "\n",
        "\n"
      ]
    },
    {
      "cell_type": "code",
      "execution_count": null,
      "id": "7de85a01-418e-44c3-9b46-67cb9015e308",
      "metadata": {
        "id": "7de85a01-418e-44c3-9b46-67cb9015e308"
      },
      "outputs": [],
      "source": [
        "## 3. Set\n",
        "A set is an unordered collection of unique items.\n",
        "\n",
        "### Example:"
      ]
    },
    {
      "cell_type": "code",
      "execution_count": null,
      "id": "416d33b5-570d-4955-9929-4b8c089aeb4a",
      "metadata": {
        "id": "416d33b5-570d-4955-9929-4b8c089aeb4a"
      },
      "outputs": [],
      "source": [
        "# Creating a set\n",
        "my_set = {1, 2, 3, 4, 5}\n",
        "\n",
        "# Adding an element\n",
        "my_set.add(6)\n",
        "print(my_set)  # Output: {1, 2, 3, 4, 5, 6}\n",
        "\n",
        "# Removing an element\n",
        "my_set.remove(3)\n",
        "print(my_set)  # Output: {1, 2, 4, 5, 6}\n",
        "\n",
        "# Iterating through a set\n",
        "for item in my_set:\n",
        "    print(item)\n",
        "\n",
        "# Set operations\n",
        "another_set = {4, 5, 6, 7, 8}\n",
        "union_set = my_set | another_set\n",
        "intersection_set = my_set & another_set\n",
        "print(union_set)  # Output: {1, 2, 4, 5, 6, 7, 8}\n",
        "print(intersection_set)  # Output: {4, 5, 6}\n"
      ]
    },
    {
      "cell_type": "markdown",
      "id": "b0d7cdea-9f4c-4b46-a364-513a0d428149",
      "metadata": {
        "id": "b0d7cdea-9f4c-4b46-a364-513a0d428149"
      },
      "source": [
        "# Sets\n",
        "Sets are used to store unique elements and are useful for operations like deduplication and membership testing.\n",
        "\n",
        "# 5 Functions:\n",
        "\n",
        "1. add()\n",
        "2. remove()\n",
        "3. union()\n",
        "4. intersection()\n",
        "5. difference()\n",
        "\n",
        "## Example with Ifs and Loops:"
      ]
    },
    {
      "cell_type": "code",
      "execution_count": null,
      "id": "85733045-73d2-471b-a7ee-812180f2522e",
      "metadata": {
        "id": "85733045-73d2-471b-a7ee-812180f2522e"
      },
      "outputs": [],
      "source": [
        "# Create a set\n",
        "unique_labels = {1, 2, 3, 4, 5}\n",
        "\n",
        "# Add an element\n",
        "unique_labels.add(6)\n",
        "\n",
        "# Remove an element\n",
        "if 2 in unique_labels:\n",
        "    unique_labels.remove(2)\n",
        "\n",
        "# Union of sets\n",
        "another_set = {4, 5, 6, 7}\n",
        "union_set = unique_labels.union(another_set)\n",
        "\n",
        "# Intersection of sets\n",
        "intersection_set = unique_labels.intersection(another_set)\n",
        "\n",
        "# Loop through the set\n",
        "for label in unique_labels:\n",
        "    print(label)\n"
      ]
    },
    {
      "cell_type": "markdown",
      "id": "aa409f86-e129-4374-8567-f12656cc12f2",
      "metadata": {
        "id": "aa409f86-e129-4374-8567-f12656cc12f2"
      },
      "source": [
        "## 4. Dictionary\n",
        "A dictionary is an unordered collection of key-value pairs. Keys must be unique and immutable.\n",
        "\n",
        "### Example:"
      ]
    },
    {
      "cell_type": "code",
      "execution_count": null,
      "id": "9d463a3c-e535-4642-93ca-09c01d1abf1a",
      "metadata": {
        "id": "9d463a3c-e535-4642-93ca-09c01d1abf1a",
        "outputId": "68368875-1e4f-4093-94f6-cc460a2488f2"
      },
      "outputs": [
        {
          "name": "stdout",
          "output_type": "stream",
          "text": [
            "{'name': 'Gagan', 'age': 26, 'city': 'New York'}\n"
          ]
        }
      ],
      "source": [
        "# Creating a dictionary\n",
        "my_dict = {\"name\": \"Alice\", \"age\": 25, \"city\": \"New York\"}\n",
        "\n",
        "# Accessing elements\n",
        "my_dict[\"name\"] =\"Gagan\" # Output: Alice\n",
        "\n",
        "# Modifying elements\n",
        "my_dict[\"age\"] = 26\n",
        "print(my_dict)  # Output: {'name': 'Alice', 'age': 26, 'city': 'New York'}"
      ]
    },
    {
      "cell_type": "code",
      "execution_count": null,
      "id": "02714088-498b-4836-a2c0-a91a604bd36b",
      "metadata": {
        "id": "02714088-498b-4836-a2c0-a91a604bd36b"
      },
      "outputs": [],
      "source": [
        "\n",
        "\n",
        "# Iterating through a dictionary\n",
        "for key, value in my_dict.items():\n",
        "    print(f\"{key}: {value}\")\n",
        "\n",
        "# Dictionary comprehension\n",
        "squared_dict = {x: x**2 for x in range(1, 6)}\n",
        "print(squared_dict)  # Output: {1: 1, 2: 4, 3: 9, 4: 16, 5: 25}\n"
      ]
    },
    {
      "cell_type": "markdown",
      "id": "1b563102-33b6-43ce-813b-e52bd9bd37b3",
      "metadata": {
        "id": "1b563102-33b6-43ce-813b-e52bd9bd37b3"
      },
      "source": [
        "# Dictionaries\n",
        "Dictionaries are used to store key-value pairs, making them ideal for storing structured data like model hyperparameters, feature names, and dataset metadata.\n",
        "\n",
        "# 5 Functions:\n",
        "\n",
        "1. get()\n",
        "2. keys()\n",
        "3. values()\n",
        "4. items()\n",
        "5. update()\n",
        "\n",
        "## Example with Ifs and Loops:"
      ]
    },
    {
      "cell_type": "code",
      "execution_count": null,
      "id": "d75f8367-6202-4ea7-8c84-25e6be284a3d",
      "metadata": {
        "id": "d75f8367-6202-4ea7-8c84-25e6be284a3d",
        "outputId": "0c906de8-8eae-4ff3-f05d-690a693c25da"
      },
      "outputs": [
        {
          "name": "stdout",
          "output_type": "stream",
          "text": [
            "learning_rate\n",
            "batch_size\n",
            "epochs\n"
          ]
        }
      ],
      "source": [
        "# Create a dictionary\n",
        "model_params = {\"learning_rate\": 0.001, \"batch_size\": 32, \"epochs\": 100}\n",
        "\n",
        "# Get a value\n",
        "lr = model_params.get(\"learning_rate\")\n",
        "\n",
        "# Update a value\n",
        "model_params.update({\"learning_rate\": 0.002})\n",
        "\n",
        "# Loop through keys\n",
        "for key in model_params.keys():\n",
        "    print(key)"
      ]
    },
    {
      "cell_type": "code",
      "execution_count": null,
      "id": "8d0f316b-1449-4599-9bf5-d0e2810b09d1",
      "metadata": {
        "id": "8d0f316b-1449-4599-9bf5-d0e2810b09d1",
        "outputId": "a5462076-5219-4bdc-c0a8-e53671842892"
      },
      "outputs": [
        {
          "name": "stdout",
          "output_type": "stream",
          "text": [
            "0.002\n",
            "32\n",
            "100\n"
          ]
        }
      ],
      "source": [
        "# Loop through values\n",
        "for value in model_params.values():\n",
        "    print(value)"
      ]
    },
    {
      "cell_type": "code",
      "execution_count": null,
      "id": "7ec70f91-33dd-4310-a78c-f190ac43f830",
      "metadata": {
        "id": "7ec70f91-33dd-4310-a78c-f190ac43f830"
      },
      "outputs": [],
      "source": [
        "\n",
        "\n",
        "\n",
        "\n",
        "# Loop through items\n",
        "for key, value in model_params.items():\n",
        "    print(f\"{key}: {value}\")\n",
        "\n",
        "# Using if to check presence\n",
        "if \"batch_size\" in model_params:\n",
        "    print(\"Batch size is set.\")\n"
      ]
    },
    {
      "cell_type": "markdown",
      "id": "ffff489a-ca57-4d99-88a5-288ed1e0f70f",
      "metadata": {
        "id": "ffff489a-ca57-4d99-88a5-288ed1e0f70f"
      },
      "source": [
        "## 5. String\n",
        "A string is an immutable sequence of characters.\n",
        "\n",
        "### Example:"
      ]
    },
    {
      "cell_type": "code",
      "execution_count": null,
      "id": "ea3c43f6-31df-48f0-9b3c-4a8c09c94701",
      "metadata": {
        "id": "ea3c43f6-31df-48f0-9b3c-4a8c09c94701"
      },
      "outputs": [],
      "source": [
        "# Creating a string\n",
        "my_string = \"Hello, World!\"\n",
        "\n",
        "# Accessing elements\n",
        "print(my_string[0])  # Output: H\n",
        "\n",
        "# Slicing\n",
        "print(my_string[7:12])  # Output: World\n",
        "\n",
        "# Iterating through a string\n",
        "for char in my_string:\n",
        "    print(char)\n",
        "\n",
        "# String methods\n",
        "upper_string = my_string.upper()\n",
        "print(upper_string)  # Output: HELLO, WORLD!\n",
        "\n",
        "# String formatting\n",
        "name = \"Alice\"\n",
        "age = 25\n",
        "formatted_string = f\"My name is {name} and I am {age} years old.\"\n",
        "print(formatted_string)  # Output: My name is Alice and I am 25 years old.\n"
      ]
    },
    {
      "cell_type": "markdown",
      "id": "82bce8c2-8ff7-4108-b90d-708d6ff4d517",
      "metadata": {
        "id": "82bce8c2-8ff7-4108-b90d-708d6ff4d517"
      },
      "source": [
        "# Differences between List, Tuple, Sets, and Dictionaries\n",
        "\n",
        "## List:\n",
        "\n",
        "Ordered, mutable, allows duplicates.\n",
        "Use when you need a sequence of elements that can be changed.\n",
        "\n",
        "## Tuple:\n",
        "\n",
        "Ordered, immutable, allows duplicates.\n",
        "Use when you need a fixed sequence of elements that should not change.\n",
        "\n",
        "## Set:\n",
        "\n",
        "Unordered, mutable, no duplicates.\n",
        "Use when you need a collection of unique elements and want to perform set operations.\n",
        "\n",
        "## Dictionary:\n",
        "\n",
        "Unordered, mutable, key-value pairs, keys are unique.\n",
        "Use when you need to associate keys with values for quick lookups."
      ]
    },
    {
      "cell_type": "code",
      "execution_count": null,
      "id": "dd17ef2b-25a7-41c6-bacf-955a29ff685a",
      "metadata": {
        "id": "dd17ef2b-25a7-41c6-bacf-955a29ff685a"
      },
      "outputs": [],
      "source": []
    },
    {
      "cell_type": "markdown",
      "id": "c098b61c",
      "metadata": {
        "id": "c098b61c"
      },
      "source": [
        "# Quickstart Numpy\n",
        "\n",
        "#### What is NumPy?\n",
        "\n",
        "1. NumPy stands for Numerical Python.\n",
        "\n",
        "2. It is a library for numerical computations in Python.\n",
        "\n",
        "3. Provides support for arrays, matrices, and a collection of mathematical functions to operate on these data structures.\n",
        "\n",
        "4. NumPy is essential for scientific computing and data analysis.\n",
        "\n",
        "5. It is the foundation for other libraries like Pandas, SciPy, and scikit-learn"
      ]
    },
    {
      "cell_type": "markdown",
      "id": "8f427b80",
      "metadata": {
        "id": "8f427b80"
      },
      "source": [
        "## Installation:\n",
        "\n",
        "\"To install Numpy, you can use pip. Open your command prompt or terminal and type the following command:\""
      ]
    },
    {
      "cell_type": "code",
      "execution_count": null,
      "id": "bd8411e9",
      "metadata": {
        "id": "bd8411e9",
        "outputId": "95dfa2df-0549-4eb6-b3f9-5a3cb313c14b"
      },
      "outputs": [
        {
          "name": "stdout",
          "output_type": "stream",
          "text": [
            "Defaulting to user installation because normal site-packages is not writeable\n",
            "Requirement already satisfied: numpy in c:\\programdata\\anaconda3\\lib\\site-packages (1.26.4)\n",
            "Note: you may need to restart the kernel to use updated packages.\n"
          ]
        }
      ],
      "source": [
        "pip install numpy\n"
      ]
    },
    {
      "cell_type": "markdown",
      "id": "3ebbb88e",
      "metadata": {
        "id": "3ebbb88e"
      },
      "source": [
        "# Importing NumPy\n",
        "\n",
        "\n",
        "#### Import NumPy into your Python script."
      ]
    },
    {
      "cell_type": "code",
      "execution_count": null,
      "id": "eb2a9d1a",
      "metadata": {
        "id": "eb2a9d1a"
      },
      "outputs": [],
      "source": [
        "import numpy as np\n"
      ]
    },
    {
      "cell_type": "markdown",
      "id": "f1230d58",
      "metadata": {
        "id": "f1230d58"
      },
      "source": [
        "Common practice is to import NumPy with the alias np for convenience."
      ]
    },
    {
      "cell_type": "markdown",
      "id": "79653c39",
      "metadata": {
        "id": "79653c39"
      },
      "source": [
        "## Basic Numpy Operations:"
      ]
    },
    {
      "cell_type": "markdown",
      "id": "b60550a7",
      "metadata": {
        "id": "b60550a7"
      },
      "source": [
        "## Creating Arrays:\n",
        "\n",
        "#### Definition:\n",
        "\n",
        "\"Numpy arrays are the central data structure in Numpy. You can create arrays in several ways.\"\n",
        "\n",
        "**Syntax:** np.array()"
      ]
    },
    {
      "cell_type": "code",
      "execution_count": null,
      "id": "116b0de6",
      "metadata": {
        "id": "116b0de6",
        "outputId": "ee95f3e2-a3d0-4f0d-968e-ce94745c6617"
      },
      "outputs": [
        {
          "name": "stdout",
          "output_type": "stream",
          "text": [
            "[1 2 3 4 5]\n"
          ]
        }
      ],
      "source": [
        "import numpy as np\n",
        "arr = np.array([1, 2, 3, 4, 5])\n",
        "print(arr)\n"
      ]
    },
    {
      "cell_type": "code",
      "execution_count": null,
      "id": "ef7040d5",
      "metadata": {
        "id": "ef7040d5"
      },
      "outputs": [],
      "source": [
        "# Creating a 1D array\n",
        "arr1 = np.array([1, 2, 3, 4, 5])\n",
        "\n",
        "# Creating a 2D array\n",
        "arr2 = np.array([[1, 2, 3], [4, 5, 6]])\n"
      ]
    },
    {
      "cell_type": "code",
      "execution_count": null,
      "id": "1a8fb0d4-f53b-4f97-9945-376eb6e21c0d",
      "metadata": {
        "id": "1a8fb0d4-f53b-4f97-9945-376eb6e21c0d",
        "outputId": "6d76da3b-dba3-4f97-d439-049fcfacd168"
      },
      "outputs": [
        {
          "name": "stdout",
          "output_type": "stream",
          "text": [
            "[1 2 3 4 5]\n"
          ]
        }
      ],
      "source": [
        "print (arr1)"
      ]
    },
    {
      "cell_type": "code",
      "execution_count": null,
      "id": "71c6d4f8-df6e-494c-9bf6-4d2d1f758a71",
      "metadata": {
        "id": "71c6d4f8-df6e-494c-9bf6-4d2d1f758a71",
        "outputId": "9b1cbe82-8d67-4e3a-95cd-34b5fc2ea05f"
      },
      "outputs": [
        {
          "name": "stdout",
          "output_type": "stream",
          "text": [
            "[[1 2 3]\n",
            " [4 5 6]]\n"
          ]
        }
      ],
      "source": [
        "print(arr2)"
      ]
    },
    {
      "cell_type": "code",
      "execution_count": null,
      "id": "45a8a751-343c-48af-9de0-2a4a8dab78f3",
      "metadata": {
        "id": "45a8a751-343c-48af-9de0-2a4a8dab78f3",
        "outputId": "c769b82f-2086-4101-cf46-897d582ba253"
      },
      "outputs": [
        {
          "name": "stdout",
          "output_type": "stream",
          "text": [
            "4\n"
          ]
        }
      ],
      "source": [
        "print(arr1[3])"
      ]
    },
    {
      "cell_type": "code",
      "execution_count": null,
      "id": "4adfd4d0-f30a-419d-bd00-0b29ab759b57",
      "metadata": {
        "id": "4adfd4d0-f30a-419d-bd00-0b29ab759b57",
        "outputId": "c737c3c3-e5ed-48d8-89d2-d02ed523b733"
      },
      "outputs": [
        {
          "name": "stdout",
          "output_type": "stream",
          "text": [
            "5\n"
          ]
        }
      ],
      "source": [
        "print(arr2[1,1])"
      ]
    },
    {
      "cell_type": "markdown",
      "id": "37bbab6d",
      "metadata": {
        "id": "37bbab6d"
      },
      "source": [
        "# Array Attributes\n",
        "\n",
        "\n",
        "### Attributes: shape, dtype, ndim, size\n",
        "### Syntax: array.attribute\n"
      ]
    },
    {
      "cell_type": "code",
      "execution_count": null,
      "id": "e80c636d-acf7-41a9-ac45-bd42fc9f3d32",
      "metadata": {
        "id": "e80c636d-acf7-41a9-ac45-bd42fc9f3d32"
      },
      "outputs": [],
      "source": []
    },
    {
      "cell_type": "code",
      "execution_count": null,
      "id": "4cfbe17f",
      "metadata": {
        "id": "4cfbe17f",
        "outputId": "91f757dc-1d65-431d-c130-988d319887a6"
      },
      "outputs": [
        {
          "name": "stdout",
          "output_type": "stream",
          "text": [
            "(5,)\n",
            "(2, 3)\n",
            "int32\n",
            "2\n",
            "6\n"
          ]
        }
      ],
      "source": [
        "print(arr1.shape)  # Output: (5,)\n",
        "print(arr2.shape)  # Output: (2, 3)\n",
        "print(arr1.dtype)  # Output: int64\n",
        "print(arr2.ndim)   # Output: 1\n",
        "print(arr2.size)   # Output: 6\n"
      ]
    },
    {
      "cell_type": "markdown",
      "id": "0aebe3ec",
      "metadata": {
        "id": "0aebe3ec"
      },
      "source": [
        "## Array Arithmetic:\n",
        "\n",
        "\"Numpy allows you to perform element-wise operations on arrays.\""
      ]
    },
    {
      "cell_type": "code",
      "execution_count": null,
      "id": "ffe2407e",
      "metadata": {
        "id": "ffe2407e",
        "outputId": "400e730d-70d1-4b25-ca93-cee51898dfa5"
      },
      "outputs": [
        {
          "name": "stdout",
          "output_type": "stream",
          "text": [
            "[5 7 9]\n"
          ]
        }
      ],
      "source": [
        "arr1 = np.array([1, 2, 3])\n",
        "arr2 = np.array([4, 5, 6])\n",
        "sum_arr = arr1 + arr2\n",
        "print(sum_arr)  # Output: [5 7 9]\n"
      ]
    },
    {
      "cell_type": "markdown",
      "id": "4195f8ad",
      "metadata": {
        "id": "4195f8ad"
      },
      "source": [
        "# Creating Arrays with Functions\n",
        "\n",
        "\n",
        "### Functions: np.zeros(), np.ones(), np.arange(), np.linspace(), np.random\n",
        "\n",
        "These functions help create arrays with specific patterns or random values."
      ]
    },
    {
      "cell_type": "code",
      "execution_count": null,
      "id": "71bb2fcf-fb82-4a5c-801d-1bc5a8a122c4",
      "metadata": {
        "id": "71bb2fcf-fb82-4a5c-801d-1bc5a8a122c4",
        "outputId": "7d3b0a18-da92-4b88-d981-4f1160841cef"
      },
      "outputs": [
        {
          "data": {
            "text/plain": [
              "array([[0., 0., 0.],\n",
              "       [0., 0., 0.]])"
            ]
          },
          "execution_count": 131,
          "metadata": {},
          "output_type": "execute_result"
        }
      ],
      "source": [
        "# Array of zeros\n",
        "zeros = np.zeros((2, 3))\n",
        "zeros"
      ]
    },
    {
      "cell_type": "code",
      "execution_count": null,
      "id": "4fa2cd31-e6df-4581-9450-b84466b7535a",
      "metadata": {
        "id": "4fa2cd31-e6df-4581-9450-b84466b7535a",
        "outputId": "d8839d84-5507-4e83-8fbc-67f1e6b157f5"
      },
      "outputs": [
        {
          "data": {
            "text/plain": [
              "array([[1., 1., 1.],\n",
              "       [1., 1., 1.]])"
            ]
          },
          "execution_count": 133,
          "metadata": {},
          "output_type": "execute_result"
        }
      ],
      "source": [
        "# Array of ones\n",
        "ones = np.ones((2, 3))\n",
        "ones"
      ]
    },
    {
      "cell_type": "code",
      "execution_count": null,
      "id": "20162a37-ee02-403f-95d5-7c87a9c70c65",
      "metadata": {
        "id": "20162a37-ee02-403f-95d5-7c87a9c70c65",
        "outputId": "3ead8575-4526-4df7-da02-8cac885a0d8c"
      },
      "outputs": [
        {
          "data": {
            "text/plain": [
              "array([0, 2, 4, 6, 8])"
            ]
          },
          "execution_count": 137,
          "metadata": {},
          "output_type": "execute_result"
        }
      ],
      "source": [
        "# Array of evenly spaced values\n",
        "even_spaced = np.arange(0, 10, 2)\n",
        "even_spaced"
      ]
    },
    {
      "cell_type": "code",
      "execution_count": null,
      "id": "60237cac-1714-47c7-934e-1cc1286f5d05",
      "metadata": {
        "id": "60237cac-1714-47c7-934e-1cc1286f5d05",
        "outputId": "f06d8cc8-c45f-48bd-ebbc-668316a4e882"
      },
      "outputs": [
        {
          "data": {
            "text/plain": [
              "array([0.  , 0.25, 0.5 , 0.75, 1.  ])"
            ]
          },
          "execution_count": 139,
          "metadata": {},
          "output_type": "execute_result"
        }
      ],
      "source": [
        "# Array of linearly spaced values\n",
        "linear_spaced = np.linspace(0, 1, 5)\n",
        "linear_spaced\n",
        "\n"
      ]
    },
    {
      "cell_type": "code",
      "execution_count": null,
      "id": "0a3da7b9",
      "metadata": {
        "id": "0a3da7b9",
        "outputId": "185583f5-3cf1-4080-9afa-977f19934526"
      },
      "outputs": [
        {
          "data": {
            "text/plain": [
              "array([[0.98228543, 0.21325347, 0.27995694],\n",
              "       [0.41151687, 0.70349785, 0.4045927 ]])"
            ]
          },
          "execution_count": 143,
          "metadata": {},
          "output_type": "execute_result"
        }
      ],
      "source": [
        "\n",
        "\n",
        "\n",
        "\n",
        "\n",
        "\n",
        "\n",
        "\n",
        "# Random array\n",
        "random_array = np.random.random((2, 3))\n",
        "random_array\n"
      ]
    },
    {
      "cell_type": "code",
      "execution_count": null,
      "id": "0f541105-9d82-4025-85a1-6c3de690d686",
      "metadata": {
        "id": "0f541105-9d82-4025-85a1-6c3de690d686"
      },
      "outputs": [],
      "source": []
    },
    {
      "cell_type": "markdown",
      "id": "fb4094cf",
      "metadata": {
        "id": "fb4094cf"
      },
      "source": [
        "## Array Indexing and Slicing:\n",
        "\n",
        "\"You can access elements of a Numpy array using indexing and slicing.\""
      ]
    },
    {
      "cell_type": "code",
      "execution_count": null,
      "id": "2b147a5f",
      "metadata": {
        "id": "2b147a5f",
        "outputId": "b37f51d0-36fd-4d47-ddbc-bd422521af78"
      },
      "outputs": [
        {
          "name": "stdout",
          "output_type": "stream",
          "text": [
            "1\n",
            "[2 3 4]\n"
          ]
        }
      ],
      "source": [
        "arr = np.array([1, 2, 3, 4, 5])\n",
        "print(arr[0])    # Output: 1\n",
        "print(arr[1:4])  # Output: [2 3 4]\n"
      ]
    },
    {
      "cell_type": "markdown",
      "id": "c6d5cb29",
      "metadata": {
        "id": "c6d5cb29"
      },
      "source": [
        "## Array Reshaping:\n",
        "\n",
        "\"You can change the shape of an array using the reshape method.\""
      ]
    },
    {
      "cell_type": "code",
      "execution_count": null,
      "id": "4b596ab4-9bb5-4cdc-ae13-d93c7ff6de18",
      "metadata": {
        "id": "4b596ab4-9bb5-4cdc-ae13-d93c7ff6de18",
        "outputId": "f973d008-0afa-450c-9e2e-b0458a12f748"
      },
      "outputs": [
        {
          "data": {
            "text/plain": [
              "array([[1, 2, 3],\n",
              "       [4, 5, 6]])"
            ]
          },
          "execution_count": 147,
          "metadata": {},
          "output_type": "execute_result"
        }
      ],
      "source": [
        "arr = np.array([[1, 2, 3], [4, 5, 6]])\n",
        "arr"
      ]
    },
    {
      "cell_type": "code",
      "execution_count": null,
      "id": "aa903dc8",
      "metadata": {
        "id": "aa903dc8",
        "outputId": "fa37791f-c045-4cdb-e177-e25c43589567"
      },
      "outputs": [
        {
          "name": "stdout",
          "output_type": "stream",
          "text": [
            "[[1 2]\n",
            " [3 4]\n",
            " [5 6]]\n"
          ]
        }
      ],
      "source": [
        "\n",
        "\n",
        "reshaped_arr = arr.reshape((3, 2))\n",
        "print(reshaped_arr)\n",
        "# Output:\n",
        "# [[1 2]\n",
        "#  [3 4]\n",
        "#  [5 6]]\n"
      ]
    },
    {
      "cell_type": "markdown",
      "id": "923c1754",
      "metadata": {
        "id": "923c1754"
      },
      "source": [
        "## Basic Statistical Operations:\n",
        "\n",
        "NumPy is a powerful library in Python for numerical computations, providing a wide range of statistical functions that are essential in data analysis and machine learning. Here are some additional statistical functions that you can use with NumPy:\n",
        "\n",
        "## Commonly Used Statistical Functions\n",
        "\n",
        "### Mean: Calculates the arithmetic mean along the specified axis."
      ]
    },
    {
      "cell_type": "code",
      "execution_count": null,
      "id": "7c2d88d6-5883-4673-b673-1a10608d9cef",
      "metadata": {
        "id": "7c2d88d6-5883-4673-b673-1a10608d9cef",
        "outputId": "a05d7556-99e4-4e3f-cbbe-4eb1bca72c00"
      },
      "outputs": [
        {
          "name": "stdout",
          "output_type": "stream",
          "text": [
            "Mean: 3.0\n"
          ]
        }
      ],
      "source": [
        "import numpy as np\n",
        "data = np.array([1, 2, 3, 4, 5])\n",
        "mean = np.mean(data)\n",
        "print(\"Mean:\", mean)\n"
      ]
    },
    {
      "cell_type": "markdown",
      "id": "fee1dee6-9cb5-4025-a35e-9ae59ba6d489",
      "metadata": {
        "id": "fee1dee6-9cb5-4025-a35e-9ae59ba6d489"
      },
      "source": [
        "### Median: Computes the median along the specified axis."
      ]
    },
    {
      "cell_type": "code",
      "execution_count": null,
      "id": "b36fc526-0506-4467-b2bd-941a24897f15",
      "metadata": {
        "id": "b36fc526-0506-4467-b2bd-941a24897f15",
        "outputId": "776b2400-7421-45c9-fa03-69628fb33b67"
      },
      "outputs": [
        {
          "name": "stdout",
          "output_type": "stream",
          "text": [
            "Median: 3.0\n"
          ]
        }
      ],
      "source": [
        "median = np.median(data)\n",
        "print(\"Median:\", median)\n"
      ]
    },
    {
      "cell_type": "markdown",
      "id": "2b37db83-5328-473a-a81c-f15194768cb8",
      "metadata": {
        "id": "2b37db83-5328-473a-a81c-f15194768cb8"
      },
      "source": [
        "## Standard Deviation: Computes the standard deviation along the specified axis."
      ]
    },
    {
      "cell_type": "code",
      "execution_count": null,
      "id": "9c716547-603c-4613-88db-e863c86ce754",
      "metadata": {
        "id": "9c716547-603c-4613-88db-e863c86ce754",
        "outputId": "0d05ac4d-e91a-48c1-c912-51e350a3fe32"
      },
      "outputs": [
        {
          "name": "stdout",
          "output_type": "stream",
          "text": [
            "Standard Deviation: 1.4142135623730951\n"
          ]
        }
      ],
      "source": [
        "std_dev = np.std(data)\n",
        "print(\"Standard Deviation:\", std_dev)\n"
      ]
    },
    {
      "cell_type": "markdown",
      "id": "b3752c1f-65a9-4366-afa4-dbc166e17b5f",
      "metadata": {
        "id": "b3752c1f-65a9-4366-afa4-dbc166e17b5f"
      },
      "source": [
        "## Variance: Computes the variance along the specified axis."
      ]
    },
    {
      "cell_type": "code",
      "execution_count": null,
      "id": "51f624eb-5e65-4d47-93ff-a2e443aa95bb",
      "metadata": {
        "id": "51f624eb-5e65-4d47-93ff-a2e443aa95bb",
        "outputId": "9516a644-adaa-41be-c8a1-72755c25d75a"
      },
      "outputs": [
        {
          "name": "stdout",
          "output_type": "stream",
          "text": [
            "Variance: 2.0\n"
          ]
        }
      ],
      "source": [
        "variance = np.var(data)\n",
        "print(\"Variance:\", variance)\n"
      ]
    },
    {
      "cell_type": "markdown",
      "id": "fe540b9b-1a32-4d2c-9c15-022c1a2b9b02",
      "metadata": {
        "id": "fe540b9b-1a32-4d2c-9c15-022c1a2b9b02"
      },
      "source": [
        "## Percentile: Computes the qth percentile of the data along the specified axis."
      ]
    },
    {
      "cell_type": "code",
      "execution_count": null,
      "id": "529dd9f8-272f-44ac-83e1-b11e4ec92afe",
      "metadata": {
        "id": "529dd9f8-272f-44ac-83e1-b11e4ec92afe",
        "outputId": "fb3569bb-82fd-42a5-fff9-9e3849293d31"
      },
      "outputs": [
        {
          "name": "stdout",
          "output_type": "stream",
          "text": [
            "90th Percentile: 4.6\n"
          ]
        }
      ],
      "source": [
        "percentile_90 = np.percentile(data, 90)\n",
        "print(\"90th Percentile:\", percentile_90)\n"
      ]
    },
    {
      "cell_type": "markdown",
      "id": "06d725c0-6a5b-4ca4-9211-aa9044184422",
      "metadata": {
        "id": "06d725c0-6a5b-4ca4-9211-aa9044184422"
      },
      "source": [
        "## Advanced Statistical Functions\n",
        "\n",
        "### Quantile: Computes the quantiles of the data along the specified axis."
      ]
    },
    {
      "cell_type": "code",
      "execution_count": null,
      "id": "dcf2633c-4739-4a1e-804f-033e4fcebdc0",
      "metadata": {
        "id": "dcf2633c-4739-4a1e-804f-033e4fcebdc0",
        "outputId": "fbe5cb14-a1cc-41f3-c13b-bc2d761f6e42"
      },
      "outputs": [
        {
          "name": "stdout",
          "output_type": "stream",
          "text": [
            "Quantiles (25%, 50%, 75%): [2. 3. 4.]\n"
          ]
        }
      ],
      "source": [
        "quantiles = np.quantile(data, [0.25, 0.5, 0.75])\n",
        "print(\"Quantiles (25%, 50%, 75%):\", quantiles)\n"
      ]
    },
    {
      "cell_type": "markdown",
      "id": "d8883ffa-3624-4423-abcf-46093cbe1edd",
      "metadata": {
        "id": "d8883ffa-3624-4423-abcf-46093cbe1edd"
      },
      "source": [
        "## Min and Max: Returns the minimum and maximum values along the specified axis."
      ]
    },
    {
      "cell_type": "code",
      "execution_count": null,
      "id": "ba499bc3-65e7-48b6-8704-26e2247845c5",
      "metadata": {
        "id": "ba499bc3-65e7-48b6-8704-26e2247845c5",
        "outputId": "43a15185-ae8b-4ec5-ef3e-d33dc4637ddf"
      },
      "outputs": [
        {
          "name": "stdout",
          "output_type": "stream",
          "text": [
            "Min: 1 Max: 5\n"
          ]
        }
      ],
      "source": [
        "min_val = np.min(data)\n",
        "max_val = np.max(data)\n",
        "print(\"Min:\", min_val, \"Max:\", max_val)\n"
      ]
    },
    {
      "cell_type": "markdown",
      "id": "24556bcb-6798-4531-ae5f-48f14d34fa42",
      "metadata": {
        "id": "24556bcb-6798-4531-ae5f-48f14d34fa42"
      },
      "source": [
        "## Sum and Product: Computes the sum and product of array elements along the specified axis."
      ]
    },
    {
      "cell_type": "code",
      "execution_count": null,
      "id": "480036f8-de50-4b77-890c-3978d4e55996",
      "metadata": {
        "id": "480036f8-de50-4b77-890c-3978d4e55996",
        "outputId": "7a935e15-169f-4217-ecab-81e76a1c6b08"
      },
      "outputs": [
        {
          "data": {
            "text/plain": [
              "array([1, 2, 3, 4, 5])"
            ]
          },
          "execution_count": 167,
          "metadata": {},
          "output_type": "execute_result"
        }
      ],
      "source": [
        "data"
      ]
    },
    {
      "cell_type": "code",
      "execution_count": null,
      "id": "87ff2818-42d4-44e1-bd04-261eb465f5bb",
      "metadata": {
        "id": "87ff2818-42d4-44e1-bd04-261eb465f5bb",
        "outputId": "5444db6f-e1f1-4dd5-d957-294d7b689ec3"
      },
      "outputs": [
        {
          "name": "stdout",
          "output_type": "stream",
          "text": [
            "Sum: 15 Product: 120\n"
          ]
        }
      ],
      "source": [
        "sum_val = np.sum(data)\n",
        "product_val = np.prod(data)\n",
        "print(\"Sum:\", sum_val, \"Product:\", product_val)\n"
      ]
    },
    {
      "cell_type": "markdown",
      "id": "9626c986-b442-4b2a-9ba4-2f45518b7f7f",
      "metadata": {
        "id": "9626c986-b442-4b2a-9ba4-2f45518b7f7f"
      },
      "source": [
        "## Cumulative Sum and Product: Returns the cumulative sum and product of the elements along the specified axis."
      ]
    },
    {
      "cell_type": "code",
      "execution_count": null,
      "id": "59420ba8-c7eb-485e-aaea-a8b66b5ebb4a",
      "metadata": {
        "id": "59420ba8-c7eb-485e-aaea-a8b66b5ebb4a"
      },
      "outputs": [],
      "source": [
        "cumsum = np.cumsum(data)\n",
        "cumprod = np.cumprod(data)\n",
        "print(\"Cumulative Sum:\", cumsum)\n",
        "print(\"Cumulative Product:\", cumprod)\n"
      ]
    },
    {
      "cell_type": "markdown",
      "id": "3813a373-2005-44b1-b740-da3254e16b26",
      "metadata": {
        "id": "3813a373-2005-44b1-b740-da3254e16b26"
      },
      "source": [
        "## Correlation Coefficient: Returns the Pearson product-moment correlation coefficients."
      ]
    },
    {
      "cell_type": "code",
      "execution_count": null,
      "id": "cd92f5f3-49d3-4f7b-8847-0467cb30c205",
      "metadata": {
        "id": "cd92f5f3-49d3-4f7b-8847-0467cb30c205"
      },
      "outputs": [],
      "source": [
        "data1 = np.array([1, 2, 3, 4, 5])\n",
        "data2 = np.array([5, 4, 3, 2, 1])\n",
        "correlation = np.corrcoef(data1, data2)\n",
        "print(\"Correlation Coefficient:\", correlation)\n"
      ]
    },
    {
      "cell_type": "markdown",
      "id": "d8da1608-c8ce-4243-bb1e-fa39a77efc95",
      "metadata": {
        "id": "d8da1608-c8ce-4243-bb1e-fa39a77efc95"
      },
      "source": [
        "## Covariance Matrix: Computes the covariance matrix of two arrays."
      ]
    },
    {
      "cell_type": "code",
      "execution_count": null,
      "id": "cc734f1a-d159-4c21-a06c-1d5dc49df735",
      "metadata": {
        "id": "cc734f1a-d159-4c21-a06c-1d5dc49df735"
      },
      "outputs": [],
      "source": [
        "covariance = np.cov(data1, data2)\n",
        "print(\"Covariance Matrix:\\n\", covariance)\n"
      ]
    },
    {
      "cell_type": "markdown",
      "id": "3758b62e-5b51-404a-a549-fd0a9f0900f1",
      "metadata": {
        "id": "3758b62e-5b51-404a-a549-fd0a9f0900f1"
      },
      "source": [
        "## Histogram: Computes the histogram of a dataset."
      ]
    },
    {
      "cell_type": "code",
      "execution_count": null,
      "id": "1c3f3d87-3033-4488-9013-2cbcb245ffe7",
      "metadata": {
        "id": "1c3f3d87-3033-4488-9013-2cbcb245ffe7"
      },
      "outputs": [],
      "source": [
        "histogram, bin_edges = np.histogram(data, bins=5)\n",
        "print(\"Histogram:\", histogram)\n",
        "print(\"Bin Edges:\", bin_edges)\n"
      ]
    },
    {
      "cell_type": "markdown",
      "id": "a061f363-7c0b-4da4-b001-9eaa2c34beba",
      "metadata": {
        "id": "a061f363-7c0b-4da4-b001-9eaa2c34beba"
      },
      "source": [
        "## Binned Statistics: Computes statistics on data within bins."
      ]
    },
    {
      "cell_type": "code",
      "execution_count": null,
      "id": "378f722c-02a7-4fad-8125-915a0075866a",
      "metadata": {
        "id": "378f722c-02a7-4fad-8125-915a0075866a"
      },
      "outputs": [],
      "source": [
        "from scipy.stats import binned_statistic\n",
        "\n",
        "values = np.random.randn(1000)\n",
        "bin_means, bin_edges, binnumber = binned_statistic(data, values, statistic='mean', bins=10)\n",
        "print(\"Binned Means:\", bin_means)\n"
      ]
    },
    {
      "cell_type": "markdown",
      "id": "b5b0a343-d971-4c59-92bc-ec012e69805c",
      "metadata": {
        "id": "b5b0a343-d971-4c59-92bc-ec012e69805c"
      },
      "source": [
        "## Mode: Finds the mode of the dataset."
      ]
    },
    {
      "cell_type": "code",
      "execution_count": null,
      "id": "b0522a81-6edc-4dee-862c-01bde76c06e2",
      "metadata": {
        "id": "b0522a81-6edc-4dee-862c-01bde76c06e2"
      },
      "outputs": [],
      "source": [
        "from scipy import stats\n",
        "mode = stats.mode(data)\n",
        "print(\"Mode:\", mode)\n"
      ]
    },
    {
      "cell_type": "markdown",
      "id": "ab096d1f-f848-4b24-9bc1-7433b33b1c60",
      "metadata": {
        "id": "ab096d1f-f848-4b24-9bc1-7433b33b1c60"
      },
      "source": [
        "## Skewness and Kurtosis: Measures the asymmetry and tailedness of the distribution of data."
      ]
    },
    {
      "cell_type": "code",
      "execution_count": null,
      "id": "31a78865-901c-499b-a861-664e3a4c5321",
      "metadata": {
        "id": "31a78865-901c-499b-a861-664e3a4c5321"
      },
      "outputs": [],
      "source": [
        "skewness = stats.skew(data)\n",
        "kurtosis = stats.kurtosis(data)\n",
        "print(\"Skewness:\", skewness)\n",
        "print(\"Kurtosis:\", kurtosis)\n"
      ]
    },
    {
      "cell_type": "markdown",
      "id": "ba49f235-e649-41f3-acfc-b4f76945335c",
      "metadata": {
        "id": "ba49f235-e649-41f3-acfc-b4f76945335c"
      },
      "source": [
        "# Using Statistical Functions with Axes\n",
        "\n",
        "## Most of these functions can be applied along a specified axis for multi-dimensional arrays."
      ]
    },
    {
      "cell_type": "code",
      "execution_count": null,
      "id": "c0fa11fb-d38b-4f3d-9e97-6e5e1bf5033e",
      "metadata": {
        "id": "c0fa11fb-d38b-4f3d-9e97-6e5e1bf5033e"
      },
      "outputs": [],
      "source": [
        "matrix = np.array([[1, 2, 3], [4, 5, 6], [7, 8, 9]])\n",
        "\n",
        "# Mean along columns\n",
        "mean_cols = np.mean(matrix, axis=0)\n",
        "print(\"Mean along columns:\", mean_cols)\n",
        "\n",
        "# Mean along rows\n",
        "mean_rows = np.mean(matrix, axis=1)\n",
        "print(\"Mean along rows:\", mean_rows)\n",
        "\n",
        "# Standard deviation along columns\n",
        "std_dev_cols = np.std(matrix, axis=0)\n",
        "print(\"Standard Deviation along columns:\", std_dev_cols)\n",
        "\n",
        "# Standard deviation along rows\n",
        "std_dev_rows = np.std(matrix, axis=1)\n",
        "print(\"Standard Deviation along rows:\", std_dev_rows)\n"
      ]
    },
    {
      "cell_type": "code",
      "execution_count": null,
      "id": "34b2eeff",
      "metadata": {
        "id": "34b2eeff",
        "outputId": "142cbdc7-0be0-48bc-8773-ba3b352cb893"
      },
      "outputs": [
        {
          "name": "stdout",
          "output_type": "stream",
          "text": [
            "Mean: 3.0\n",
            "Standard Deviation: 1.4142135623730951\n"
          ]
        }
      ],
      "source": [
        "arr = np.array([1, 2, 3, 4, 5])\n",
        "mean = np.mean(arr)\n",
        "std_dev = np.std(arr)\n",
        "print(\"Mean:\", mean)       # Output: Mean: 3.0\n",
        "print(\"Standard Deviation:\", std_dev)  # Output: Standard Deviation: 1.4142135623730951\n"
      ]
    },
    {
      "cell_type": "markdown",
      "id": "5a1b4ea1-6e2f-4a02-ae74-2b4e72ed6c65",
      "metadata": {
        "id": "5a1b4ea1-6e2f-4a02-ae74-2b4e72ed6c65"
      },
      "source": [
        "# Essentials of Pandas\n",
        "\n",
        "Pandas is a powerful and flexible data manipulation library in Python, providing data structures like DataFrames and Series. It's essential for data preprocessing, cleaning, and analysis in machine learning workflows.\n",
        "\n",
        "## Importing Pandas"
      ]
    },
    {
      "cell_type": "code",
      "execution_count": null,
      "id": "41e4673c-ae50-4f3e-b95f-f284c6a5e2c7",
      "metadata": {
        "id": "41e4673c-ae50-4f3e-b95f-f284c6a5e2c7"
      },
      "outputs": [],
      "source": [
        "import pandas as pd\n"
      ]
    },
    {
      "cell_type": "markdown",
      "id": "99c05f90-910a-4459-b8b1-b43bfeb39e05",
      "metadata": {
        "id": "99c05f90-910a-4459-b8b1-b43bfeb39e05"
      },
      "source": [
        "## Creating DataFrames"
      ]
    },
    {
      "cell_type": "code",
      "execution_count": null,
      "id": "520b3bb0-5f4a-477b-870c-4fffea241809",
      "metadata": {
        "id": "520b3bb0-5f4a-477b-870c-4fffea241809",
        "outputId": "8407401d-75fd-4f4b-ef35-7679bf440a38"
      },
      "outputs": [
        {
          "name": "stdout",
          "output_type": "stream",
          "text": [
            "    Name  Age           City\n",
            "0   Aman   25       New York\n",
            "1  Suman   30  San Francisco\n",
            "2  Komal   35    Los Angeles\n"
          ]
        }
      ],
      "source": [
        "# Creating a DataFrame from a dictionary\n",
        "data = {\n",
        "    'Name': ['Aman', 'Suman', 'Komal'],\n",
        "    'Age': [25, 30, 35],\n",
        "    'City': ['New York', 'San Francisco', 'Los Angeles']\n",
        "}\n",
        "df = pd.DataFrame(data)\n",
        "print(df)\n"
      ]
    },
    {
      "cell_type": "markdown",
      "id": "45230a6a-7dc6-4207-945f-8876f187041d",
      "metadata": {
        "id": "45230a6a-7dc6-4207-945f-8876f187041d"
      },
      "source": [
        "# Example CSV File for Pandas\n",
        "Here is an example CSV file to use with the above code for reading data using Pandas:\n",
        "\n",
        "## data.csv:\n",
        "\n",
        "### To create and download this file, you can use the following code snippet:"
      ]
    },
    {
      "cell_type": "code",
      "execution_count": null,
      "id": "d1253841-afb7-4468-9943-6a364d183c28",
      "metadata": {
        "id": "d1253841-afb7-4468-9943-6a364d183c28"
      },
      "outputs": [],
      "source": [
        "import pandas as pd\n",
        "\n",
        "# Creating the DataFrame\n",
        "data = {\n",
        "    'Name': ['Alice', 'Bob', 'Charlie'],\n",
        "    'Age': [25, 30, 35],\n",
        "    'City': ['New York', 'San Francisco', 'Los Angeles']\n",
        "}\n",
        "df = pd.DataFrame(data)\n",
        "\n",
        "# Saving to CSV\n",
        "df.to_csv('data.csv', index=False)\n"
      ]
    },
    {
      "cell_type": "markdown",
      "id": "fd487efd-670f-4249-902b-682a34a0e8a4",
      "metadata": {
        "id": "fd487efd-670f-4249-902b-682a34a0e8a4"
      },
      "source": [
        "## Reading and Writing Data"
      ]
    },
    {
      "cell_type": "code",
      "execution_count": null,
      "id": "f9516860-ca0a-42b7-980c-e2c1b1255c18",
      "metadata": {
        "id": "f9516860-ca0a-42b7-980c-e2c1b1255c18"
      },
      "outputs": [],
      "source": [
        "# Reading data from a CSV file\n",
        "df = pd.read_csv('data.csv')\n",
        "\n",
        "# Writing data to a CSV file\n",
        "df.to_csv('output.csv', index=False)\n"
      ]
    },
    {
      "cell_type": "code",
      "execution_count": null,
      "id": "2fc6159e-0003-4bab-93dc-067c16a62248",
      "metadata": {
        "id": "2fc6159e-0003-4bab-93dc-067c16a62248",
        "outputId": "2fc3e03c-702d-4419-f9a9-cee7d4a884be"
      },
      "outputs": [
        {
          "data": {
            "text/html": [
              "<div>\n",
              "<style scoped>\n",
              "    .dataframe tbody tr th:only-of-type {\n",
              "        vertical-align: middle;\n",
              "    }\n",
              "\n",
              "    .dataframe tbody tr th {\n",
              "        vertical-align: top;\n",
              "    }\n",
              "\n",
              "    .dataframe thead th {\n",
              "        text-align: right;\n",
              "    }\n",
              "</style>\n",
              "<table border=\"1\" class=\"dataframe\">\n",
              "  <thead>\n",
              "    <tr style=\"text-align: right;\">\n",
              "      <th></th>\n",
              "      <th>Name</th>\n",
              "      <th>Age</th>\n",
              "      <th>City</th>\n",
              "    </tr>\n",
              "  </thead>\n",
              "  <tbody>\n",
              "    <tr>\n",
              "      <th>0</th>\n",
              "      <td>Alice</td>\n",
              "      <td>25</td>\n",
              "      <td>New York</td>\n",
              "    </tr>\n",
              "    <tr>\n",
              "      <th>1</th>\n",
              "      <td>Bob</td>\n",
              "      <td>30</td>\n",
              "      <td>San Francisco</td>\n",
              "    </tr>\n",
              "    <tr>\n",
              "      <th>2</th>\n",
              "      <td>Charlie</td>\n",
              "      <td>35</td>\n",
              "      <td>Los Angeles</td>\n",
              "    </tr>\n",
              "  </tbody>\n",
              "</table>\n",
              "</div>"
            ],
            "text/plain": [
              "      Name  Age           City\n",
              "0    Alice   25       New York\n",
              "1      Bob   30  San Francisco\n",
              "2  Charlie   35    Los Angeles"
            ]
          },
          "execution_count": 10,
          "metadata": {},
          "output_type": "execute_result"
        }
      ],
      "source": [
        "df"
      ]
    },
    {
      "cell_type": "markdown",
      "id": "4276051b-6f68-4cd5-83e0-0ded05a378c3",
      "metadata": {
        "id": "4276051b-6f68-4cd5-83e0-0ded05a378c3"
      },
      "source": [
        "## Inspecting Data"
      ]
    },
    {
      "cell_type": "code",
      "execution_count": null,
      "id": "4dc3a33f-c73a-45cb-b40f-0c75d439a6fe",
      "metadata": {
        "id": "4dc3a33f-c73a-45cb-b40f-0c75d439a6fe",
        "outputId": "5d82b8cb-3cf2-486b-b37d-f5d8a552ccf3"
      },
      "outputs": [
        {
          "name": "stdout",
          "output_type": "stream",
          "text": [
            "      Name  Age           City\n",
            "0    Alice   25       New York\n",
            "1      Bob   30  San Francisco\n",
            "2  Charlie   35    Los Angeles\n",
            "      Name  Age           City\n",
            "0    Alice   25       New York\n",
            "1      Bob   30  San Francisco\n",
            "2  Charlie   35    Los Angeles\n",
            "        Age\n",
            "count   3.0\n",
            "mean   30.0\n",
            "std     5.0\n",
            "min    25.0\n",
            "25%    27.5\n",
            "50%    30.0\n",
            "75%    32.5\n",
            "max    35.0\n",
            "<class 'pandas.core.frame.DataFrame'>\n",
            "RangeIndex: 3 entries, 0 to 2\n",
            "Data columns (total 3 columns):\n",
            " #   Column  Non-Null Count  Dtype \n",
            "---  ------  --------------  ----- \n",
            " 0   Name    3 non-null      object\n",
            " 1   Age     3 non-null      int64 \n",
            " 2   City    3 non-null      object\n",
            "dtypes: int64(1), object(2)\n",
            "memory usage: 204.0+ bytes\n",
            "None\n"
          ]
        }
      ],
      "source": [
        "# Display the first few rows\n",
        "print(df.head())\n",
        "\n",
        "# Display the last few rows\n",
        "print(df.tail())\n",
        "\n",
        "# Display summary statistics\n",
        "print(df.describe())\n",
        "\n",
        "# Display information about the DataFrame\n",
        "print(df.info())\n"
      ]
    },
    {
      "cell_type": "markdown",
      "id": "5764b8eb-3e0a-4cfb-b2c2-b32615923b90",
      "metadata": {
        "id": "5764b8eb-3e0a-4cfb-b2c2-b32615923b90"
      },
      "source": [
        "# Selecting and Filtering Data"
      ]
    },
    {
      "cell_type": "code",
      "execution_count": null,
      "id": "6b9f9479-2ef6-4271-b34a-a975ef576163",
      "metadata": {
        "id": "6b9f9479-2ef6-4271-b34a-a975ef576163"
      },
      "outputs": [],
      "source": [
        "# Selecting a single column\n",
        "age_column = df['Age']\n",
        "\n",
        "# Selecting multiple columns\n",
        "subset = df[['Name', 'City']]\n",
        "\n",
        "# Filtering rows based on a condition\n",
        "filtered_df = df[df['Age'] > 30]\n"
      ]
    },
    {
      "cell_type": "markdown",
      "id": "a5bf2bd8-e2d9-4db5-a006-6ee1783d1a0b",
      "metadata": {
        "id": "a5bf2bd8-e2d9-4db5-a006-6ee1783d1a0b"
      },
      "source": [
        "## Data Manipulation"
      ]
    },
    {
      "cell_type": "code",
      "execution_count": null,
      "id": "6b065709-a973-4a83-b338-da3483b71394",
      "metadata": {
        "id": "6b065709-a973-4a83-b338-da3483b71394"
      },
      "outputs": [],
      "source": [
        "# Adding a new column\n",
        "df['Salary'] = [70000, 80000, 90000]\n",
        "\n",
        "# Dropping a column\n",
        "df = df.drop('City', axis=1)\n",
        "\n",
        "# Renaming columns\n",
        "df = df.rename(columns={'Name': 'Full Name', 'Age': 'Years'})\n"
      ]
    },
    {
      "cell_type": "markdown",
      "id": "b8904098-02a0-405e-81b9-533ff425ec22",
      "metadata": {
        "id": "b8904098-02a0-405e-81b9-533ff425ec22"
      },
      "source": [
        "## Handling Missing Data"
      ]
    },
    {
      "cell_type": "code",
      "execution_count": null,
      "id": "ad644ce4-a677-431f-829f-b3aeb6e2bc31",
      "metadata": {
        "id": "ad644ce4-a677-431f-829f-b3aeb6e2bc31"
      },
      "outputs": [],
      "source": [
        "# Detecting missing values\n",
        "print(df.isnull().sum())\n",
        "\n",
        "# Filling missing values\n",
        "df = df.fillna(0)\n",
        "\n",
        "# Dropping rows with missing values\n",
        "df = df.dropna()\n"
      ]
    },
    {
      "cell_type": "markdown",
      "id": "374ded28-e68e-4d53-a6aa-1f60a9a5c3f6",
      "metadata": {
        "id": "374ded28-e68e-4d53-a6aa-1f60a9a5c3f6"
      },
      "source": [
        "## Grouping and Aggregating Data"
      ]
    },
    {
      "cell_type": "code",
      "execution_count": null,
      "id": "4db86e84-17c5-44a3-b538-78fa77adb967",
      "metadata": {
        "id": "4db86e84-17c5-44a3-b538-78fa77adb967"
      },
      "outputs": [],
      "source": [
        "# Grouping data by a column and calculating the mean\n",
        "grouped = df.groupby('City').mean()\n",
        "\n",
        "# Aggregating data with multiple functions\n",
        "aggregated = df.groupby('City').agg({'Age': ['mean', 'max'], 'Salary': 'sum'})\n"
      ]
    },
    {
      "cell_type": "markdown",
      "id": "c7756090-6012-43c6-b64b-f8a3fca657f9",
      "metadata": {
        "id": "c7756090-6012-43c6-b64b-f8a3fca657f9"
      },
      "source": [
        "## Merging and Joining DataFrames"
      ]
    },
    {
      "cell_type": "code",
      "execution_count": null,
      "id": "b018f7f4-714e-49a4-b7fd-d087c89ee82c",
      "metadata": {
        "id": "b018f7f4-714e-49a4-b7fd-d087c89ee82c"
      },
      "outputs": [],
      "source": [
        "# Merging two DataFrames\n",
        "merged_df = pd.merge(df1, df2, on='Name')\n",
        "\n",
        "# Joining two DataFrames\n",
        "joined_df = df1.join(df2, how='inner')\n"
      ]
    },
    {
      "cell_type": "markdown",
      "id": "6699f8b1-c74d-4e73-841b-60e834642267",
      "metadata": {
        "id": "6699f8b1-c74d-4e73-841b-60e834642267"
      },
      "source": [
        "## Pivot Tables"
      ]
    },
    {
      "cell_type": "code",
      "execution_count": null,
      "id": "24035496-b729-4981-b3b0-82aa385bd296",
      "metadata": {
        "id": "24035496-b729-4981-b3b0-82aa385bd296"
      },
      "outputs": [],
      "source": [
        "# Creating a pivot table\n",
        "pivot_table = df.pivot_table(index='City', columns='Year', values='Sales', aggfunc='sum')\n"
      ]
    },
    {
      "cell_type": "markdown",
      "id": "3a4701e1-d279-4c00-a8b0-631417046b4d",
      "metadata": {
        "id": "3a4701e1-d279-4c00-a8b0-631417046b4d"
      },
      "source": [
        "# Why We Need Pandas in Machine Learning\n",
        "\n",
        "**Data Preprocessing:**\n",
        "\n",
        "Cleaning and preparing data for machine learning models.\n",
        "\n",
        "**Exploratory Data Analysis (EDA):**\n",
        "\n",
        "Quickly analyzing data to understand its structure and characteristics.\n",
        "\n",
        "**Handling Missing Data:**\n",
        "\n",
        "Efficiently managing missing values and imputing data.\n",
        "\n",
        "**Feature Engineering:**\n",
        "\n",
        "Creating new features from existing data.\n",
        "\n",
        "**Integration with Other Libraries:**\n",
        "\n",
        "Works seamlessly with NumPy, SciPy, scikit-learn, and other machine learning libraries."
      ]
    },
    {
      "cell_type": "markdown",
      "id": "94991847-efac-4eb6-b414-59e5794edb76",
      "metadata": {
        "id": "94991847-efac-4eb6-b414-59e5794edb76"
      },
      "source": [
        "# Difference Between NumPy and Pandas"
      ]
    },
    {
      "cell_type": "markdown",
      "id": "1383d522-e229-42a4-9650-2f6d27be4a74",
      "metadata": {
        "id": "1383d522-e229-42a4-9650-2f6d27be4a74"
      },
      "source": [
        "1. Data Structures\n",
        "NumPy: Arrays (ndarray)\n",
        "Pandas: DataFrames, Series\n",
        "2. Usage\n",
        "NumPy: Numerical computations, linear algebra\n",
        "Pandas: Data manipulation, analysis, preprocessing\n",
        "3. Flexibility\n",
        "NumPy: Less flexible, focuses on numerical data\n",
        "Pandas: More flexible, handles different data types\n",
        "4. Data Alignment\n",
        "NumPy: No automatic alignment\n",
        "Pandas: Automatic alignment and handling of missing data\n",
        "5. Operations\n",
        "NumPy: Element-wise operations\n",
        "Pandas: Label-based operations\n",
        "6. Performance\n",
        "NumPy: Faster for numerical operations\n",
        "Pandas: More user-friendly for data analysis"
      ]
    },
    {
      "cell_type": "markdown",
      "id": "87af40c4-e007-4a39-b69d-098938d146e4",
      "metadata": {
        "id": "87af40c4-e007-4a39-b69d-098938d146e4"
      },
      "source": [
        "## Examples Highlighting Differences\n",
        "\n",
        "## NumPy Example"
      ]
    },
    {
      "cell_type": "code",
      "execution_count": null,
      "id": "2d74f757-7146-4806-9428-54ba68e78742",
      "metadata": {
        "id": "2d74f757-7146-4806-9428-54ba68e78742"
      },
      "outputs": [],
      "source": [
        "import numpy as np\n",
        "\n",
        "# Creating a NumPy array\n",
        "arr = np.array([1, 2, 3, 4, 5])\n",
        "\n",
        "# Element-wise operation\n",
        "arr = arr + 1\n",
        "print(arr)  # Output: [2, 3, 4, 5, 6]\n"
      ]
    },
    {
      "cell_type": "markdown",
      "id": "703bb4e3-520f-4a5f-b605-6a6b9017f0a1",
      "metadata": {
        "id": "703bb4e3-520f-4a5f-b605-6a6b9017f0a1"
      },
      "source": [
        "## Pandas Example"
      ]
    },
    {
      "cell_type": "code",
      "execution_count": null,
      "id": "0f49a9c7-deb8-49ba-9d46-49500682c4d7",
      "metadata": {
        "id": "0f49a9c7-deb8-49ba-9d46-49500682c4d7"
      },
      "outputs": [],
      "source": [
        "import pandas as pd\n",
        "\n",
        "# Creating a Pandas DataFrame\n",
        "data = {\n",
        "    'Name': ['Alice', 'Bob', 'Charlie'],\n",
        "    'Age': [25, 30, 35]\n",
        "}\n",
        "df = pd.DataFrame(data)\n",
        "\n",
        "# Label-based operation\n",
        "df['Age'] = df['Age'] + 1\n",
        "print(df)\n",
        "# Output:\n",
        "#       Name  Age\n",
        "# 0    Alice   26\n",
        "# 1      Bob   31\n",
        "# 2  Charlie   36\n"
      ]
    },
    {
      "cell_type": "markdown",
      "id": "87aad2b7",
      "metadata": {
        "id": "87aad2b7"
      },
      "source": [
        "# Importance of Data Visualization\n",
        "\n",
        "\"Data visualization is a crucial part of data analysis. It helps in understanding and communicating insights from data by providing a visual context through charts and graphs, making complex data more accessible and understandable.\"\n",
        "\n",
        "## Popular Libraries:\n",
        "\n",
        "\"There are several libraries available for data visualization in Python. Two of the most popular ones are Matplotlib and Seaborn.\""
      ]
    },
    {
      "cell_type": "markdown",
      "id": "fdff0623",
      "metadata": {
        "id": "fdff0623"
      },
      "source": [
        "## Installation:\n",
        "\n",
        "\"To install Matplotlib and Seaborn, you can use pip. Open your command prompt or terminal and type the following commands:\""
      ]
    },
    {
      "cell_type": "code",
      "execution_count": null,
      "id": "4dc7bfed",
      "metadata": {
        "id": "4dc7bfed",
        "outputId": "84c1af89-93e2-4595-d47e-cf8398c235f7"
      },
      "outputs": [
        {
          "name": "stdout",
          "output_type": "stream",
          "text": [
            "Requirement already satisfied: matplotlib in c:\\users\\dell\\anaconda3\\lib\\site-packages (3.9.0)\n",
            "Requirement already satisfied: seaborn in c:\\users\\dell\\anaconda3\\lib\\site-packages (0.13.2)\n",
            "Requirement already satisfied: contourpy>=1.0.1 in c:\\users\\dell\\anaconda3\\lib\\site-packages (from matplotlib) (1.0.7)\n",
            "Requirement already satisfied: cycler>=0.10 in c:\\users\\dell\\anaconda3\\lib\\site-packages (from matplotlib) (0.11.0)\n",
            "Requirement already satisfied: fonttools>=4.22.0 in c:\\users\\dell\\anaconda3\\lib\\site-packages (from matplotlib) (4.39.4)\n",
            "Requirement already satisfied: kiwisolver>=1.3.1 in c:\\users\\dell\\anaconda3\\lib\\site-packages (from matplotlib) (1.4.4)\n",
            "Requirement already satisfied: numpy>=1.23 in c:\\users\\dell\\anaconda3\\lib\\site-packages (from matplotlib) (1.24.3)\n",
            "Requirement already satisfied: packaging>=20.0 in c:\\users\\dell\\anaconda3\\lib\\site-packages (from matplotlib) (23.0)\n",
            "Requirement already satisfied: pillow>=8 in c:\\users\\dell\\anaconda3\\lib\\site-packages (from matplotlib) (9.4.0)\n",
            "Requirement already satisfied: pyparsing>=2.3.1 in c:\\users\\dell\\anaconda3\\lib\\site-packages (from matplotlib) (3.0.9)\n",
            "Requirement already satisfied: python-dateutil>=2.7 in c:\\users\\dell\\anaconda3\\lib\\site-packages (from matplotlib) (2.8.2)\n",
            "Requirement already satisfied: pandas>=1.2 in c:\\users\\dell\\anaconda3\\lib\\site-packages (from seaborn) (2.2.1)\n",
            "Requirement already satisfied: pytz>=2020.1 in c:\\users\\dell\\anaconda3\\lib\\site-packages (from pandas>=1.2->seaborn) (2022.7)\n",
            "Requirement already satisfied: tzdata>=2022.7 in c:\\users\\dell\\anaconda3\\lib\\site-packages (from pandas>=1.2->seaborn) (2024.1)\n",
            "Requirement already satisfied: six>=1.5 in c:\\users\\dell\\anaconda3\\lib\\site-packages (from python-dateutil>=2.7->matplotlib) (1.16.0)\n",
            "Note: you may need to restart the kernel to use updated packages.\n"
          ]
        }
      ],
      "source": [
        "pip install matplotlib seaborn\n"
      ]
    },
    {
      "cell_type": "markdown",
      "id": "07f61f09",
      "metadata": {
        "id": "07f61f09"
      },
      "source": [
        "## Basic Plotting with Matplotlib:\n",
        "\n",
        "### Line Plot:\n",
        "\n",
        "\"Line plots are used to represent data points connected by straight lines.\""
      ]
    },
    {
      "cell_type": "code",
      "execution_count": null,
      "id": "b95bcf57",
      "metadata": {
        "id": "b95bcf57",
        "outputId": "160fcbac-e733-494a-aa94-20b4b44e7401"
      },
      "outputs": [
        {
          "data": {
            "image/png": "[encoded data removed]",
            "text/plain": [
              "<Figure size 640x480 with 1 Axes>"
            ]
          },
          "metadata": {},
          "output_type": "display_data"
        }
      ],
      "source": [
        "import matplotlib.pyplot as plt\n",
        "\n",
        "x = [1, 2, 3, 4, 5]\n",
        "y = [1, 4, 9, 16, 25]\n",
        "\n",
        "plt.plot(x, y)\n",
        "plt.title('Line Plot')\n",
        "plt.xlabel('X-axis')\n",
        "plt.ylabel('Y-axis')\n",
        "plt.show()\n"
      ]
    },
    {
      "cell_type": "markdown",
      "id": "75485f74",
      "metadata": {
        "id": "75485f74"
      },
      "source": [
        "# Bar Plot:\n",
        "\n",
        "\"Bar plots are used to represent data with rectangular bars.\""
      ]
    },
    {
      "cell_type": "code",
      "execution_count": null,
      "id": "55c191c0",
      "metadata": {
        "id": "55c191c0",
        "outputId": "13464715-b761-4782-9cbd-e1b4568ad3ca"
      },
      "outputs": [
        {
          "data": {
            "image/png": "[encoded data removed]",
            "text/plain": [
              "<Figure size 640x480 with 1 Axes>"
            ]
          },
          "metadata": {},
          "output_type": "display_data"
        }
      ],
      "source": [
        "categories = ['A', 'B', 'C', 'D']\n",
        "values = [10, 20, 15, 25]\n",
        "\n",
        "plt.bar(categories, values)\n",
        "plt.title('Bar Plot')\n",
        "plt.xlabel('Categories')\n",
        "plt.ylabel('Values')\n",
        "plt.show()\n"
      ]
    },
    {
      "cell_type": "markdown",
      "id": "8781f130",
      "metadata": {
        "id": "8781f130"
      },
      "source": [
        "# Histogram:\n",
        "\n",
        "\"Histograms are used to represent the distribution of a dataset.\""
      ]
    },
    {
      "cell_type": "code",
      "execution_count": null,
      "id": "06afabb9",
      "metadata": {
        "id": "06afabb9",
        "outputId": "decb6bd3-ac9d-4cb1-fc4a-e68209a3e067"
      },
      "outputs": [
        {
          "data": {
            "image/png": "[encoded data removed]",
            "text/plain": [
              "<Figure size 640x480 with 1 Axes>"
            ]
          },
          "metadata": {},
          "output_type": "display_data"
        }
      ],
      "source": [
        "data = [1, 2, 2, 3, 3, 3, 4, 4, 4, 4, 5, 5, 5, 5, 5]\n",
        "\n",
        "plt.hist(data, bins=5)\n",
        "plt.title('Histogram')\n",
        "plt.xlabel('Data')\n",
        "plt.ylabel('Frequency')\n",
        "plt.show()\n"
      ]
    },
    {
      "cell_type": "markdown",
      "id": "b7d8e8d0",
      "metadata": {
        "id": "b7d8e8d0"
      },
      "source": [
        "# Scatter Plot:\n",
        "\n",
        "\"Scatter plots are used to represent the relationship between two variables.\""
      ]
    },
    {
      "cell_type": "code",
      "execution_count": null,
      "id": "150e65dd",
      "metadata": {
        "id": "150e65dd",
        "outputId": "d743aefd-ca59-4c2e-b61b-c926247f977c"
      },
      "outputs": [
        {
          "data": {
            "image/png": "[encoded data removed]",
            "text/plain": [
              "<Figure size 640x480 with 1 Axes>"
            ]
          },
          "metadata": {},
          "output_type": "display_data"
        }
      ],
      "source": [
        "x = [1, 2, 3, 4, 5]\n",
        "y = [2, 3, 4, 5, 6]\n",
        "\n",
        "plt.scatter(x, y)\n",
        "plt.title('Scatter Plot')\n",
        "plt.xlabel('X-axis')\n",
        "plt.ylabel('Y-axis')\n",
        "plt.show()\n"
      ]
    },
    {
      "cell_type": "markdown",
      "id": "a3d5e974",
      "metadata": {
        "id": "a3d5e974"
      },
      "source": [
        "# OpenCV\n",
        "\n",
        "\"OpenCV (Open Source Computer Vision Library) is an open-source library that provides tools for computer vision and image processing. It contains more than 2500 optimized algorithms for various computer vision and machine learning tasks.It includes numerous algorithms for image and video analysis, like object detection, face recognition, and more.\"\n",
        "\n",
        "# Why use OpenCV?\n",
        "\n",
        "\"OpenCV is widely used in various applications, from image and video processing to real-time object detection. It's efficient and has a vast community of users, which makes it an excellent choice for computer vision projects.\"\n",
        "\n",
        "# Commonly Used Functions in OpenCV\n",
        "\n",
        "## Reading and Writing Images\n",
        "\n",
        "1. cv2.imread(): Reads an image from a file.\n",
        "2. cv2.imwrite(): Writes an image to a file.\n",
        "\n",
        "## Displaying Images\n",
        "\n",
        "1. cv2.imshow(): Displays an image in a window.\n",
        "2. cv2.waitKey(): Waits for a key event.\n",
        "\n",
        "## Image Transformation\n",
        "\n",
        "1. cv2.resize(): Resizes an image to the specified dimensions.\n",
        "2. cv2.cvtColor(): Converts an image from one color space to another (e.g., BGR to grayscale).\n",
        "\n",
        "## Drawing Functions\n",
        "\n",
        "1. cv2.line(): Draws a line on an image.\n",
        "   \n",
        "2. cv2.rectangle(): Draws a rectangle on an image.\n",
        "   \n",
        "3. cv2.circle(): Draws a circle on an image.\n",
        "\n",
        "## Face Detection\n",
        "\n",
        "1. cv2.CascadeClassifier(): Loads a pre-trained classifier for object detection.\n",
        "   \n",
        "3. detectMultiScale(): Detects objects of different sizes in the input image.\n",
        "\n",
        "## Example: Face Detection Using OpenCV\n",
        "\n",
        "Here is a quick example to demonstrate face detection using OpenCV."
      ]
    },
    {
      "cell_type": "markdown",
      "id": "8c84f7a6",
      "metadata": {
        "id": "8c84f7a6"
      },
      "source": [
        "# Installation:\n",
        "\n",
        "\"To install OpenCV, you can use pip. Open your command prompt or terminal and type the following command:\""
      ]
    },
    {
      "cell_type": "code",
      "execution_count": null,
      "id": "90fd85fa",
      "metadata": {
        "id": "90fd85fa",
        "outputId": "3c671638-11d6-4f71-8618-71bc8d3ef551"
      },
      "outputs": [
        {
          "name": "stdout",
          "output_type": "stream",
          "text": [
            "Requirement already satisfied: opencv-python in c:\\programdata\\anaconda3\\lib\\site-packages (4.10.0.84)\n",
            "Requirement already satisfied: numpy>=1.21.2 in c:\\programdata\\anaconda3\\lib\\site-packages (from opencv-python) (1.26.4)\n",
            "Note: you may need to restart the kernel to use updated packages.\n"
          ]
        }
      ],
      "source": [
        "pip install opencv-python\n"
      ]
    },
    {
      "cell_type": "markdown",
      "id": "68899ecb",
      "metadata": {
        "id": "68899ecb"
      },
      "source": [
        "# Basic OpenCV Operations:\n",
        "\n",
        "## Reading and Displaying Images:\n",
        "\n",
        "\"You can read and display images using OpenCV.\""
      ]
    },
    {
      "cell_type": "code",
      "execution_count": null,
      "id": "815551ad",
      "metadata": {
        "id": "815551ad"
      },
      "outputs": [],
      "source": [
        "import cv2\n",
        "\n",
        "# Load the cascade for face detection\n",
        "face_cascade = cv2.CascadeClassifier(cv2.data.haarcascades + 'haarcascade_frontalface_default.xml')\n",
        "\n",
        "# Read the input image\n",
        "img = cv2.imread(r'C:\\Users\\dell\\Pictures\\Face Detection\\m11.jpg')\n",
        "cv2.imshow('Face Detection', img)\n",
        "cv2.waitKey(0)\n",
        "cv2.destroyAllWindows()\n"
      ]
    },
    {
      "cell_type": "code",
      "execution_count": null,
      "id": "b584bbcb-dd20-48a3-9e2c-66fb7ed00dde",
      "metadata": {
        "id": "b584bbcb-dd20-48a3-9e2c-66fb7ed00dde"
      },
      "outputs": [],
      "source": []
    },
    {
      "cell_type": "markdown",
      "id": "b446a496",
      "metadata": {
        "id": "b446a496"
      },
      "source": [
        "# Converting Images to Grayscale:\n",
        "\n",
        "\"You can convert images to grayscale to simplify processing.\"\n",
        "\n"
      ]
    },
    {
      "cell_type": "code",
      "execution_count": null,
      "id": "5ea848aa",
      "metadata": {
        "id": "5ea848aa"
      },
      "outputs": [],
      "source": [
        "gray_img = cv2.cvtColor(img, cv2.COLOR_BGR2GRAY)\n",
        "cv2.imshow('Grayscale Image', gray_img)\n",
        "cv2.waitKey(0)\n",
        "cv2.destroyAllWindows()\n"
      ]
    },
    {
      "cell_type": "markdown",
      "id": "aa6baa87",
      "metadata": {
        "id": "aa6baa87"
      },
      "source": [
        "# Image Resizing:\n",
        "\n",
        "\"Resizing images is a common preprocessing step.\"\n",
        "\n"
      ]
    },
    {
      "cell_type": "code",
      "execution_count": null,
      "id": "d5aac3a1",
      "metadata": {
        "id": "d5aac3a1"
      },
      "outputs": [],
      "source": [
        "resized_img = cv2.resize(img, (300, 300))\n",
        "cv2.imshow('Resized Image', resized_img)\n",
        "cv2.waitKey(0)\n",
        "cv2.destroyAllWindows()\n"
      ]
    },
    {
      "cell_type": "markdown",
      "id": "d3ba2065",
      "metadata": {
        "id": "d3ba2065"
      },
      "source": [
        "# Drawing Shapes on Images:\n",
        "\n",
        "\"You can draw shapes like rectangles, circles, and lines on images.\""
      ]
    },
    {
      "cell_type": "code",
      "execution_count": null,
      "id": "d21a0e2a",
      "metadata": {
        "id": "d21a0e2a"
      },
      "outputs": [],
      "source": [
        "# Drawing a rectangle\n",
        "cv2.rectangle(img, (50, 50), (200, 200), (255, 0, 0), 2)\n",
        "\n",
        "# Drawing a circle\n",
        "cv2.circle(img, (100, 100), 50, (0, 255, 0), 2)\n",
        "\n",
        "# Drawing a line\n",
        "cv2.line(img, (0, 0), (150, 150), (0, 0, 255), 2)\n",
        "\n",
        "cv2.imshow('Shapes on Image', img)\n",
        "cv2.waitKey(0)\n",
        "cv2.destroyAllWindows()\n"
      ]
    },
    {
      "cell_type": "markdown",
      "id": "b3e74df5-8e26-4e5d-ab6e-a7c2ca99d178",
      "metadata": {
        "id": "b3e74df5-8e26-4e5d-ab6e-a7c2ca99d178"
      },
      "source": [
        "# Face Detection\n"
      ]
    },
    {
      "cell_type": "code",
      "execution_count": null,
      "id": "f5064be2-dc15-4c01-94b2-27356d82a955",
      "metadata": {
        "id": "f5064be2-dc15-4c01-94b2-27356d82a955"
      },
      "outputs": [],
      "source": [
        "import cv2\n",
        "\n",
        "# Load the cascade for face detection\n",
        "face_cascade = cv2.CascadeClassifier(cv2.data.haarcascades + 'haarcascade_frontalface_default.xml')\n",
        "\n",
        "# Read the input image\n",
        "img = cv2.imread(r'C:\\Users\\dell\\Pictures\\Face Detection\\m11.jpg')\n",
        "\n",
        "# Convert the image to grayscale\n",
        "gray = cv2.cvtColor(img, cv2.COLOR_BGR2GRAY)\n",
        "\n",
        "# Detect faces\n",
        "faces = face_cascade.detectMultiScale(gray, scaleFactor=1.1, minNeighbors=5, minSize=(30, 30))\n",
        "\n",
        "# Draw rectangle around the faces\n",
        "for (x, y, w, h) in faces:\n",
        "    cv2.rectangle(img, (x, y), (x+w, y+h), (255, 0, 0), 2)\n",
        "\n",
        "# Display the output\n",
        "cv2.imshow('Face Detection', img)\n",
        "cv2.waitKey(0)\n",
        "cv2.destroyAllWindows()\n"
      ]
    }
  ],
  "metadata": {
    "kernelspec": {
      "display_name": "Python 3 (ipykernel)",
      "language": "python",
      "name": "python3"
    },
    "language_info": {
      "codemirror_mode": {
        "name": "ipython",
        "version": 3
      },
      "file_extension": ".py",
      "mimetype": "text/x-python",
      "name": "python",
      "nbconvert_exporter": "python",
      "pygments_lexer": "ipython3",
      "version": "3.12.4"
    },
    "colab": {
      "provenance": [],
      "include_colab_link": true
    }
  },
  "nbformat": 4,
  "nbformat_minor": 5
}